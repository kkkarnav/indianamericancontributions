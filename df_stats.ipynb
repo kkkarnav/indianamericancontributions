{
 "cells": [
  {
   "cell_type": "code",
   "execution_count": 1,
   "metadata": {},
   "outputs": [],
   "source": [
    "import pandas as pd\n",
    "import polars as pl\n",
    "import numpy as np\n",
    "from sklearn.linear_model import LogisticRegression\n",
    "from sklearn.model_selection import train_test_split\n",
    "from sklearn.metrics import confusion_matrix, ConfusionMatrixDisplay, accuracy_score, precision_score, recall_score, f1_score\n",
    "from sklearn.metrics import precision_recall_curve\n",
    "import matplotlib.pyplot as plt\n",
    "import matplotlib.ticker as ticker\n",
    "from matplotlib.ticker import FuncFormatter\n",
    "from sklearn.manifold import TSNE\n",
    "from sklearn.decomposition import PCA\n",
    "from mpl_toolkits.mplot3d import Axes3D\n",
    "import seaborn as sns\n",
    "from collections import defaultdict\n",
    "import warnings\n",
    "from tqdm import tqdm\n",
    "import pickle\n",
    "\n",
    "tqdm.pandas()\n",
    "warnings.filterwarnings(\"ignore\")"
   ]
  },
  {
   "cell_type": "code",
   "execution_count": 2,
   "metadata": {},
   "outputs": [],
   "source": [
    "year = 20\n",
    "df_csv = f\"./data/df{year}_with_pred_lastname.csv\"\n",
    "cands_csv = f\"./data/CampaignFin{year}/cands{year}.txt\""
   ]
  },
  {
   "cell_type": "code",
   "execution_count": 3,
   "metadata": {},
   "outputs": [],
   "source": [
    "lf = (\n",
    "        pl.scan_csv(\n",
    "            df_csv,\n",
    "            has_header=True,\n",
    "            ignore_errors=True\n",
    "        )\n",
    "    )"
   ]
  },
  {
   "cell_type": "code",
   "execution_count": 4,
   "metadata": {},
   "outputs": [
    {
     "name": "stdout",
     "output_type": "stream",
     "text": [
      "shape: (10, 20)\n",
      "┌────────────┬────────────┬───────────┬────────────┬───┬───────────┬──────────┬───────────┬────────┐\n",
      "│ contrib_id ┆ name       ┆ recip_id  ┆ orgname    ┆ … ┆ firstname ┆ lastname ┆ name_new  ┆ ethnic │\n",
      "│ ---        ┆ ---        ┆ ---       ┆ ---        ┆   ┆ ---       ┆ ---      ┆ ---       ┆ ---    │\n",
      "│ str        ┆ str        ┆ str       ┆ str        ┆   ┆ str       ┆ str      ┆ str       ┆ str    │\n",
      "╞════════════╪════════════╪═══════════╪════════════╪═══╪═══════════╪══════════╪═══════════╪════════╡\n",
      "│ p000486985 ┆ LONNBERG,  ┆ C00721712 ┆ [24T Contr ┆ … ┆ carl      ┆ lonnberg ┆ carl      ┆ not    │\n",
      "│ 3          ┆ CARL       ┆           ┆ ibution]   ┆   ┆           ┆          ┆ lonnberg  ┆        │\n",
      "│ k000151625 ┆ LOVO,      ┆ N00044240 ┆ [24T Contr ┆ … ┆ mario     ┆ lovo     ┆ mario     ┆ not    │\n",
      "│ 9          ┆ MARIO      ┆           ┆ ibution]   ┆   ┆           ┆          ┆ lovo      ┆        │\n",
      "│ h300352628 ┆ LOGUE,     ┆ C00401224 ┆            ┆ … ┆ katherine ┆ logue    ┆ katherine ┆ not    │\n",
      "│ 9          ┆ KATHERINE  ┆           ┆            ┆   ┆           ┆          ┆ logue     ┆        │\n",
      "│ m000165360 ┆ YINGLING,  ┆ N00044240 ┆ Steamboat  ┆ … ┆ john      ┆ yingling ┆ john      ┆ not    │\n",
      "│ 71         ┆ JOHN       ┆           ┆ Wharf of   ┆   ┆           ┆          ┆ yingling  ┆        │\n",
      "│            ┆            ┆           ┆ Provinceto ┆   ┆           ┆          ┆           ┆        │\n",
      "│            ┆            ┆           ┆ w…         ┆   ┆           ┆          ┆           ┆        │\n",
      "│ i300391245 ┆ YODAIKEN,  ┆ N00044240 ┆ Finite     ┆ … ┆ victor    ┆ yodaiken ┆ victor    ┆ not    │\n",
      "│ 6          ┆ VICTOR     ┆           ┆ State      ┆   ┆           ┆          ┆ yodaiken  ┆        │\n",
      "│            ┆            ┆           ┆ Machine    ┆   ┆           ┆          ┆           ┆        │\n",
      "│            ┆            ┆           ┆ Labs       ┆   ┆           ┆          ┆           ┆        │\n",
      "│ q000126443 ┆ YODER,     ┆ N00044240 ┆ Retired    ┆ … ┆ mary e    ┆ yoder    ┆ mary e    ┆ not    │\n",
      "│ 2          ┆ MARY E     ┆           ┆            ┆   ┆           ┆          ┆ yoder     ┆        │\n",
      "│ q000126443 ┆ YODER,     ┆ N00044240 ┆ Retired    ┆ … ┆ mary e    ┆ yoder    ┆ mary e    ┆ not    │\n",
      "│ 2          ┆ MARY E     ┆           ┆            ┆   ┆           ┆          ┆ yoder     ┆        │\n",
      "│ q000126443 ┆ YODER,     ┆ N00044240 ┆ Retired    ┆ … ┆ mary e    ┆ yoder    ┆ mary e    ┆ not    │\n",
      "│ 2          ┆ MARY E     ┆           ┆            ┆   ┆           ┆          ┆ yoder     ┆        │\n",
      "│ q000126443 ┆ YODER,     ┆ N00044240 ┆ Retired    ┆ … ┆ mary e    ┆ yoder    ┆ mary e    ┆ not    │\n",
      "│ 2          ┆ MARY E     ┆           ┆            ┆   ┆           ┆          ┆ yoder     ┆        │\n",
      "│ q000126443 ┆ YODER,     ┆ N00044240 ┆ Retired    ┆ … ┆ mary e    ┆ yoder    ┆ mary e    ┆ not    │\n",
      "│ 2          ┆ MARY E     ┆           ┆            ┆   ┆           ┆          ┆ yoder     ┆        │\n",
      "└────────────┴────────────┴───────────┴────────────┴───┴───────────┴──────────┴───────────┴────────┘\n"
     ]
    }
   ],
   "source": [
    "df = lf.collect(streaming=True)\n",
    "print(df.head(10))"
   ]
  },
  {
   "cell_type": "code",
   "execution_count": 32,
   "metadata": {},
   "outputs": [
    {
     "data": {
      "text/html": [
       "<div><style>\n",
       ".dataframe > thead > tr,\n",
       ".dataframe > tbody > tr {\n",
       "  text-align: right;\n",
       "  white-space: pre-wrap;\n",
       "}\n",
       "</style>\n",
       "<small>shape: (19, 7)</small><table border=\"1\" class=\"dataframe\"><thead><tr><th>contrib_id</th><th>recip_id</th><th>name_new</th><th>orgname</th><th>ultorg</th><th>state</th><th>amount</th></tr><tr><td>str</td><td>str</td><td>str</td><td>str</td><td>str</td><td>str</td><td>f64</td></tr></thead><tbody><tr><td>&quot;q0002067764 &quot;</td><td>&quot;N00023864&quot;</td><td>&quot;satish chandra&quot;</td><td>&quot;Physician&quot;</td><td>&quot;&quot;</td><td>&quot;NY&quot;</td><td>2772.0</td></tr><tr><td>&quot;q0002067764 &quot;</td><td>&quot;N00023864&quot;</td><td>&quot;satish chandra&quot;</td><td>&quot;Physician&quot;</td><td>&quot;&quot;</td><td>&quot;NY&quot;</td><td>2800.0</td></tr><tr><td>&quot;q0002067764 &quot;</td><td>&quot;N00023864&quot;</td><td>&quot;satish chandra&quot;</td><td>&quot;Physician&quot;</td><td>&quot;&quot;</td><td>&quot;NY&quot;</td><td>2772.0</td></tr><tr><td>&quot;q0002067764 &quot;</td><td>&quot;N00023864&quot;</td><td>&quot;satish chandra&quot;</td><td>&quot;Physician&quot;</td><td>&quot;&quot;</td><td>&quot;NY&quot;</td><td>2772.0</td></tr><tr><td>&quot;q0002067764 &quot;</td><td>&quot;N00023864&quot;</td><td>&quot;satish chandra&quot;</td><td>&quot;Physician&quot;</td><td>&quot;&quot;</td><td>&quot;NY&quot;</td><td>2800.0</td></tr><tr><td>&hellip;</td><td>&hellip;</td><td>&hellip;</td><td>&hellip;</td><td>&hellip;</td><td>&hellip;</td><td>&hellip;</td></tr><tr><td>&quot;q0002067764 &quot;</td><td>&quot;N00023864&quot;</td><td>&quot;satish chandra&quot;</td><td>&quot;Physician&quot;</td><td>&quot;&quot;</td><td>&quot;NY&quot;</td><td>2800.0</td></tr><tr><td>&quot;q0002067764 &quot;</td><td>&quot;N00023864&quot;</td><td>&quot;satish chandra&quot;</td><td>&quot;Physician&quot;</td><td>&quot;&quot;</td><td>&quot;NY&quot;</td><td>2772.0</td></tr><tr><td>&quot;q0002067764 &quot;</td><td>&quot;N00023864&quot;</td><td>&quot;satish chandra&quot;</td><td>&quot;Physician&quot;</td><td>&quot;&quot;</td><td>&quot;NY&quot;</td><td>2800.0</td></tr><tr><td>&quot;q0002067764 &quot;</td><td>&quot;N00023864&quot;</td><td>&quot;satish chandra&quot;</td><td>&quot;Physician&quot;</td><td>&quot;&quot;</td><td>&quot;NY&quot;</td><td>2772.0</td></tr><tr><td>&quot;q0002067764 &quot;</td><td>&quot;N00023864&quot;</td><td>&quot;satish chandra&quot;</td><td>&quot;Physician&quot;</td><td>&quot;&quot;</td><td>&quot;NY&quot;</td><td>2800.0</td></tr></tbody></table></div>"
      ],
      "text/plain": [
       "shape: (19, 7)\n",
       "┌──────────────┬───────────┬────────────────┬───────────┬────────┬───────┬────────┐\n",
       "│ contrib_id   ┆ recip_id  ┆ name_new       ┆ orgname   ┆ ultorg ┆ state ┆ amount │\n",
       "│ ---          ┆ ---       ┆ ---            ┆ ---       ┆ ---    ┆ ---   ┆ ---    │\n",
       "│ str          ┆ str       ┆ str            ┆ str       ┆ str    ┆ str   ┆ f64    │\n",
       "╞══════════════╪═══════════╪════════════════╪═══════════╪════════╪═══════╪════════╡\n",
       "│ q0002067764  ┆ N00023864 ┆ satish chandra ┆ Physician ┆        ┆ NY    ┆ 2772.0 │\n",
       "│ q0002067764  ┆ N00023864 ┆ satish chandra ┆ Physician ┆        ┆ NY    ┆ 2800.0 │\n",
       "│ q0002067764  ┆ N00023864 ┆ satish chandra ┆ Physician ┆        ┆ NY    ┆ 2772.0 │\n",
       "│ q0002067764  ┆ N00023864 ┆ satish chandra ┆ Physician ┆        ┆ NY    ┆ 2772.0 │\n",
       "│ q0002067764  ┆ N00023864 ┆ satish chandra ┆ Physician ┆        ┆ NY    ┆ 2800.0 │\n",
       "│ …            ┆ …         ┆ …              ┆ …         ┆ …      ┆ …     ┆ …      │\n",
       "│ q0002067764  ┆ N00023864 ┆ satish chandra ┆ Physician ┆        ┆ NY    ┆ 2800.0 │\n",
       "│ q0002067764  ┆ N00023864 ┆ satish chandra ┆ Physician ┆        ┆ NY    ┆ 2772.0 │\n",
       "│ q0002067764  ┆ N00023864 ┆ satish chandra ┆ Physician ┆        ┆ NY    ┆ 2800.0 │\n",
       "│ q0002067764  ┆ N00023864 ┆ satish chandra ┆ Physician ┆        ┆ NY    ┆ 2772.0 │\n",
       "│ q0002067764  ┆ N00023864 ┆ satish chandra ┆ Physician ┆        ┆ NY    ┆ 2800.0 │\n",
       "└──────────────┴───────────┴────────────────┴───────────┴────────┴───────┴────────┘"
      ]
     },
     "execution_count": 32,
     "metadata": {},
     "output_type": "execute_result"
    }
   ],
   "source": [
    "# filter the polars df for rows where name_new == satish chandra\n",
    "df.filter((pl.col(\"contrib_id\") == \"q0002067764 \") & (pl.col(\"recip_id\") == \"N00023864\") & (pl.col(\"amount\") > 0))[[\"contrib_id\", \"recip_id\", \"name_new\", \"orgname\", \"ultorg\", \"state\", \"amount\"]]"
   ]
  },
  {
   "cell_type": "code",
   "execution_count": 30,
   "metadata": {},
   "outputs": [],
   "source": [
    "# convert df to pandas\n",
    "temp = df.filter((pl.col(\"contrib_id\") == \"q0002067764 \") & (pl.col(\"recip_id\") == \"N00023864\") & (pl.col(\"amount\") > 0))"
   ]
  },
  {
   "cell_type": "code",
   "execution_count": 31,
   "metadata": {},
   "outputs": [
    {
     "data": {
      "text/html": [
       "<div><style>\n",
       ".dataframe > thead > tr,\n",
       ".dataframe > tbody > tr {\n",
       "  text-align: right;\n",
       "  white-space: pre-wrap;\n",
       "}\n",
       "</style>\n",
       "<small>shape: (1, 1)</small><table border=\"1\" class=\"dataframe\"><thead><tr><th>amount</th></tr><tr><td>f64</td></tr></thead><tbody><tr><td>52920.0</td></tr></tbody></table></div>"
      ],
      "text/plain": [
       "shape: (1, 1)\n",
       "┌─────────┐\n",
       "│ amount  │\n",
       "│ ---     │\n",
       "│ f64     │\n",
       "╞═════════╡\n",
       "│ 52920.0 │\n",
       "└─────────┘"
      ]
     },
     "execution_count": 31,
     "metadata": {},
     "output_type": "execute_result"
    }
   ],
   "source": [
    "temp.select(pl.col(\"amount\")).sum() # how do i convert this to absolute\n"
   ]
  },
  {
   "cell_type": "code",
   "execution_count": 5,
   "metadata": {},
   "outputs": [
    {
     "name": "stdout",
     "output_type": "stream",
     "text": [
      "['contrib_id', 'name', 'recip_id', 'orgname', 'ultorg', 'realcode', 'amount', 'street', 'city', 'state', 'zip', 'recipcode', 'type', 'gender', 'occupation', 'employer', 'firstname', 'lastname', 'name_new', 'ethnic']\n"
     ]
    }
   ],
   "source": [
    "print(df.columns)"
   ]
  },
  {
   "cell_type": "code",
   "execution_count": 6,
   "metadata": {},
   "outputs": [
    {
     "name": "stdout",
     "output_type": "stream",
     "text": [
      "shape: (99, 2)\n",
      "┌───────┬─────────┐\n",
      "│ state ┆ count   │\n",
      "│ ---   ┆ ---     │\n",
      "│ str   ┆ u32     │\n",
      "╞═══════╪═════════╡\n",
      "│ CA    ┆ 6113724 │\n",
      "│ TX    ┆ 2829582 │\n",
      "│ NY    ┆ 2578261 │\n",
      "│ FL    ┆ 2388060 │\n",
      "│ PA    ┆ 1340512 │\n",
      "│ …     ┆ …       │\n",
      "│ BS    ┆ 1       │\n",
      "│ GR    ┆ 1       │\n",
      "│ WE    ┆ 1       │\n",
      "│ BG    ┆ 1       │\n",
      "│ OF    ┆ 1       │\n",
      "└───────┴─────────┘\n"
     ]
    }
   ],
   "source": [
    "print(df[\"state\"].value_counts().sort(by=\"count\", descending=True))"
   ]
  },
  {
   "cell_type": "code",
   "execution_count": 7,
   "metadata": {},
   "outputs": [
    {
     "name": "stdout",
     "output_type": "stream",
     "text": [
      "shape: (14_061, 2)\n",
      "┌──────────────────────────────┬───────┐\n",
      "│ name_new                     ┆ count │\n",
      "│ ---                          ┆ ---   │\n",
      "│ str                          ┆ u32   │\n",
      "╞══════════════════════════════╪═══════╡\n",
      "│ margaret j reddy             ┆ 1266  │\n",
      "│ pradyumna chauhan            ┆ 609   │\n",
      "│ arif khan                    ┆ 460   │\n",
      "│ iftekhar rahman              ┆ 379   │\n",
      "│ john langan                  ┆ 314   │\n",
      "│ …                            ┆ …     │\n",
      "│ hasna ansari                 ┆ 1     │\n",
      "│ aravind nemarugommula dr rao ┆ 1     │\n",
      "│ mandee bhatia                ┆ 1     │\n",
      "│ varinder dr singh            ┆ 1     │\n",
      "│ arif rahmam                  ┆ 1     │\n",
      "└──────────────────────────────┴───────┘\n"
     ]
    }
   ],
   "source": [
    "print(df.filter(pl.col(\"ethnic\") == \"ind\")[\"name_new\"].value_counts().sort(by=\"count\", descending=True))"
   ]
  },
  {
   "cell_type": "code",
   "execution_count": null,
   "metadata": {},
   "outputs": [
    {
     "name": "stdout",
     "output_type": "stream",
     "text": [
      "356.7072391671521\n",
      "693.2955820763192\n"
     ]
    },
    {
     "ename": "",
     "evalue": "",
     "output_type": "error",
     "traceback": [
      "\u001b[1;31mThe Kernel crashed while executing code in the current cell or a previous cell. \n",
      "\u001b[1;31mPlease review the code in the cell(s) to identify a possible cause of the failure. \n",
      "\u001b[1;31mClick <a href='https://aka.ms/vscodeJupyterKernelCrash'>here</a> for more info. \n",
      "\u001b[1;31mView Jupyter <a href='command:jupyter.viewOutput'>log</a> for further details."
     ]
    }
   ],
   "source": [
    "print(df.filter(pl.col(\"ethnic\") == \"not\")[\"amount\"].mean())\n",
    "print(df.filter(pl.col(\"ethnic\") == \"ind\")[\"amount\"].mean())"
   ]
  },
  {
   "cell_type": "code",
   "execution_count": null,
   "metadata": {},
   "outputs": [],
   "source": [
    "print(df.filter(pl.col(\"ethnic\") == \"not\")[\"amount\"].median())\n",
    "print(df.filter(pl.col(\"ethnic\") == \"ind\")[\"amount\"].median())"
   ]
  },
  {
   "cell_type": "code",
   "execution_count": 7,
   "metadata": {},
   "outputs": [
    {
     "name": "stdout",
     "output_type": "stream",
     "text": [
      "shape: (10, 11)\n",
      "┌───────────┬───────────┬──────────────────────────┬───────┬───┬────────┬────────┬────────┬────────┐\n",
      "│ id        ┆ recip_id  ┆ name                     ┆ party ┆ … ┆ dummy6 ┆ dummy7 ┆ dummy8 ┆ dummy9 │\n",
      "│ ---       ┆ ---       ┆ ---                      ┆ ---   ┆   ┆ ---    ┆ ---    ┆ ---    ┆ ---    │\n",
      "│ str       ┆ str       ┆ str                      ┆ str   ┆   ┆ str    ┆ str    ┆ str    ┆ str    │\n",
      "╞═══════════╪═══════════╪══════════════════════════╪═══════╪═══╪════════╪════════╪════════╪════════╡\n",
      "│ H0AL02087 ┆ N00030768 ┆ Martha Roby (R)          ┆ R     ┆ … ┆ Y      ┆ I      ┆ RW     ┆        │\n",
      "│ H0AL03192 ┆ N00043592 ┆ Hannah Thompson (D)      ┆ D     ┆ … ┆        ┆        ┆ DN     ┆        │\n",
      "│ H0AL05049 ┆ N00003042 ┆ Bud Cramer (D)           ┆ D     ┆ … ┆        ┆        ┆ DN     ┆        │\n",
      "│ H0AL05163 ┆ N00030910 ┆ Mo Brooks (R)            ┆ R     ┆ … ┆ Y      ┆ I      ┆ RW     ┆        │\n",
      "│ H0AL06088 ┆ N00030911 ┆ Stanley Kyle Cooke (R)   ┆ R     ┆ … ┆        ┆        ┆ RN     ┆        │\n",
      "│ H0AL06104 ┆ N00043593 ┆ Anders Pope Allen (R)    ┆ R     ┆ … ┆        ┆        ┆ RN     ┆        │\n",
      "│ H0AL07086 ┆ N00030622 ┆ Terri A Sewell (D)       ┆ D     ┆ … ┆ Y      ┆ I      ┆ DW     ┆        │\n",
      "│ H0AL07094 ┆ N00030714 ┆ Earl Frederick Hilliard  ┆ D     ┆ … ┆        ┆        ┆ DN     ┆        │\n",
      "│           ┆           ┆ Jr. (D…                  ┆       ┆   ┆        ┆        ┆        ┆        │\n",
      "│ H0AR01083 ┆ N00030770 ┆ Rick Crawford (R)        ┆ R     ┆ … ┆ Y      ┆ I      ┆ RW     ┆        │\n",
      "│ H0AR01091 ┆ N00031571 ┆ James Christopher        ┆ D     ┆ … ┆        ┆        ┆ DN     ┆        │\n",
      "│           ┆           ┆ Gregory (D)              ┆       ┆   ┆        ┆        ┆        ┆        │\n",
      "└───────────┴───────────┴──────────────────────────┴───────┴───┴────────┴────────┴────────┴────────┘\n"
     ]
    }
   ],
   "source": [
    "cands_lf = (\n",
    "        pl.scan_csv(\n",
    "            cands_csv,\n",
    "            separator=',', \n",
    "            quote_char='|', \n",
    "            encoding='utf8-lossy', \n",
    "            has_header=False,\n",
    "            new_columns=['dummy1', 'id', 'recip_id', 'name', 'party', \n",
    "                        'seat', 'dummy4', 'dummy5', 'dummy6', 'dummy7', \n",
    "                        'dummy8', 'dummy9'],\n",
    "            ignore_errors=True\n",
    "        )\n",
    "        .select(['id', 'recip_id', 'name', 'party', 'seat', 'dummy4', 'dummy5', 'dummy6', 'dummy7', \n",
    "                        'dummy8', 'dummy9'])\n",
    "    )\n",
    "cands = cands_lf.collect()\n",
    "print(cands.head(10))"
   ]
  },
  {
   "cell_type": "code",
   "execution_count": 8,
   "metadata": {},
   "outputs": [
    {
     "data": {
      "text/html": [
       "<div><style>\n",
       ".dataframe > thead > tr,\n",
       ".dataframe > tbody > tr {\n",
       "  text-align: right;\n",
       "  white-space: pre-wrap;\n",
       "}\n",
       "</style>\n",
       "<small>shape: (5, 22)</small><table border=\"1\" class=\"dataframe\"><thead><tr><th>dummy1</th><th>dummy2</th><th>contrib_id</th><th>name</th><th>recip_id</th><th>orgname</th><th>ultorg</th><th>realcode</th><th>amount</th><th>street</th><th>city</th><th>state</th><th>zip</th><th>recipcode</th><th>type</th><th>gender</th><th>occupation</th><th>employer</th><th>firstname</th><th>lastname</th><th>name_new</th><th>ethnic</th></tr><tr><td>i64</td><td>i64</td><td>str</td><td>str</td><td>str</td><td>str</td><td>str</td><td>str</td><td>f64</td><td>str</td><td>str</td><td>str</td><td>i64</td><td>str</td><td>str</td><td>str</td><td>str</td><td>str</td><td>str</td><td>str</td><td>str</td><td>str</td></tr></thead><tbody><tr><td>2018</td><td>4020220181503742094</td><td>&quot;a0000020252@&quot;</td><td>&quot;ARONOV, LOREE RENEE&quot;</td><td>&quot;N00030768&quot;</td><td>&quot;Aronov Realty Co&quot;</td><td>&quot;&quot;</td><td>&quot;F4000&quot;</td><td>2700.0</td><td>&quot;&quot;</td><td>&quot;MONTGOMERY&quot;</td><td>&quot;AL&quot;</td><td>36111</td><td>&quot;RW&quot;</td><td>&quot;15 &quot;</td><td>&quot;F&quot;</td><td>&quot;HOMEMAKER&quot;</td><td>&quot;NONE&quot;</td><td>&quot;loree renee&quot;</td><td>&quot;aronov&quot;</td><td>&quot;loree renee aronov&quot;</td><td>&quot;not&quot;</td></tr><tr><td>2018</td><td>4020220181503742105</td><td>&quot;q0002961393 &quot;</td><td>&quot;BROWN, MARY MCCALEB&quot;</td><td>&quot;N00030768&quot;</td><td>&quot;Retired&quot;</td><td>&quot;&quot;</td><td>&quot;X1200&quot;</td><td>500.0</td><td>&quot;&quot;</td><td>&quot;MONTGOMERY&quot;</td><td>&quot;AL&quot;</td><td>36106</td><td>&quot;RW&quot;</td><td>&quot;15 &quot;</td><td>&quot;F&quot;</td><td>&quot;&quot;</td><td>&quot;&quot;</td><td>&quot;mary mccaleb&quot;</td><td>&quot;brown&quot;</td><td>&quot;mary mccaleb brown&quot;</td><td>&quot;not&quot;</td></tr><tr><td>2018</td><td>4020220181503742111</td><td>&quot;n0001186317 &quot;</td><td>&quot;COOLEY, THOMAS E MR&quot;</td><td>&quot;N00030768&quot;</td><td>&quot;Columbia Southern University&quot;</td><td>&quot;Columbia Southern Education Gr…</td><td>&quot;H5300&quot;</td><td>1000.0</td><td>&quot;&quot;</td><td>&quot;ELBERTA&quot;</td><td>&quot;AL&quot;</td><td>36530</td><td>&quot;RW&quot;</td><td>&quot;15 &quot;</td><td>&quot;M&quot;</td><td>&quot;&quot;</td><td>&quot;&quot;</td><td>&quot;thomas e mr&quot;</td><td>&quot;cooley&quot;</td><td>&quot;thomas e mr cooley&quot;</td><td>&quot;not&quot;</td></tr><tr><td>2018</td><td>4020220181503742112</td><td>&quot;e1120112775 &quot;</td><td>&quot;DAVIS, GEOFFREY C MR&quot;</td><td>&quot;N00030768&quot;</td><td>&quot;Republic Consulting&quot;</td><td>&quot;&quot;</td><td>&quot;K2000&quot;</td><td>500.0</td><td>&quot;&quot;</td><td>&quot;HEBRON&quot;</td><td>&quot;KY&quot;</td><td>41048</td><td>&quot;RW&quot;</td><td>&quot;15 &quot;</td><td>&quot;M&quot;</td><td>&quot;CONSULTANT&quot;</td><td>&quot;REPUBLIC CONSULTING LLC&quot;</td><td>&quot;geoffrey c mr&quot;</td><td>&quot;davis&quot;</td><td>&quot;geoffrey c mr davis&quot;</td><td>&quot;not&quot;</td></tr><tr><td>2018</td><td>4020220181503742116</td><td>&quot;j1001966314 &quot;</td><td>&quot;EDWARDS, CHARLES W MR JR&quot;</td><td>&quot;N00030768&quot;</td><td>&quot;Edwards Plumbing &amp; Parts&quot;</td><td>&quot;&quot;</td><td>&quot;B3400&quot;</td><td>250.0</td><td>&quot;&quot;</td><td>&quot;MONTGOMERY&quot;</td><td>&quot;AL&quot;</td><td>36117</td><td>&quot;RW&quot;</td><td>&quot;15 &quot;</td><td>&quot;M&quot;</td><td>&quot;PLUMBER&quot;</td><td>&quot;EDWARDS PLUMBING AND PARTS&quot;</td><td>&quot;charles w mr jr&quot;</td><td>&quot;edwards&quot;</td><td>&quot;charles w mr jr edwards&quot;</td><td>&quot;not&quot;</td></tr></tbody></table></div>"
      ],
      "text/plain": [
       "shape: (5, 22)\n",
       "┌────────┬─────────────┬────────────┬────────────┬───┬────────────┬──────────┬────────────┬────────┐\n",
       "│ dummy1 ┆ dummy2      ┆ contrib_id ┆ name       ┆ … ┆ firstname  ┆ lastname ┆ name_new   ┆ ethnic │\n",
       "│ ---    ┆ ---         ┆ ---        ┆ ---        ┆   ┆ ---        ┆ ---      ┆ ---        ┆ ---    │\n",
       "│ i64    ┆ i64         ┆ str        ┆ str        ┆   ┆ str        ┆ str      ┆ str        ┆ str    │\n",
       "╞════════╪═════════════╪════════════╪════════════╪═══╪════════════╪══════════╪════════════╪════════╡\n",
       "│ 2018   ┆ 40202201815 ┆ a000002025 ┆ ARONOV,    ┆ … ┆ loree      ┆ aronov   ┆ loree      ┆ not    │\n",
       "│        ┆ 03742094    ┆ 2@         ┆ LOREE      ┆   ┆ renee      ┆          ┆ renee      ┆        │\n",
       "│        ┆             ┆            ┆ RENEE      ┆   ┆            ┆          ┆ aronov     ┆        │\n",
       "│ 2018   ┆ 40202201815 ┆ q000296139 ┆ BROWN,     ┆ … ┆ mary       ┆ brown    ┆ mary       ┆ not    │\n",
       "│        ┆ 03742105    ┆ 3          ┆ MARY       ┆   ┆ mccaleb    ┆          ┆ mccaleb    ┆        │\n",
       "│        ┆             ┆            ┆ MCCALEB    ┆   ┆            ┆          ┆ brown      ┆        │\n",
       "│ 2018   ┆ 40202201815 ┆ n000118631 ┆ COOLEY,    ┆ … ┆ thomas e   ┆ cooley   ┆ thomas e   ┆ not    │\n",
       "│        ┆ 03742111    ┆ 7          ┆ THOMAS E   ┆   ┆ mr         ┆          ┆ mr cooley  ┆        │\n",
       "│        ┆             ┆            ┆ MR         ┆   ┆            ┆          ┆            ┆        │\n",
       "│ 2018   ┆ 40202201815 ┆ e112011277 ┆ DAVIS,     ┆ … ┆ geoffrey c ┆ davis    ┆ geoffrey c ┆ not    │\n",
       "│        ┆ 03742112    ┆ 5          ┆ GEOFFREY C ┆   ┆ mr         ┆          ┆ mr davis   ┆        │\n",
       "│        ┆             ┆            ┆ MR         ┆   ┆            ┆          ┆            ┆        │\n",
       "│ 2018   ┆ 40202201815 ┆ j100196631 ┆ EDWARDS,   ┆ … ┆ charles w  ┆ edwards  ┆ charles w  ┆ not    │\n",
       "│        ┆ 03742116    ┆ 4          ┆ CHARLES W  ┆   ┆ mr jr      ┆          ┆ mr jr      ┆        │\n",
       "│        ┆             ┆            ┆ MR JR      ┆   ┆            ┆          ┆ edwards    ┆        │\n",
       "└────────┴─────────────┴────────────┴────────────┴───┴────────────┴──────────┴────────────┴────────┘"
      ]
     },
     "execution_count": 8,
     "metadata": {},
     "output_type": "execute_result"
    }
   ],
   "source": [
    "df.filter(pl.col(\"recip_id\") == \"N00030768\").head(5)"
   ]
  },
  {
   "cell_type": "code",
   "execution_count": 9,
   "metadata": {},
   "outputs": [
    {
     "data": {
      "text/html": [
       "<div><style>\n",
       ".dataframe > thead > tr,\n",
       ".dataframe > tbody > tr {\n",
       "  text-align: right;\n",
       "  white-space: pre-wrap;\n",
       "}\n",
       "</style>\n",
       "<small>shape: (5, 11)</small><table border=\"1\" class=\"dataframe\"><thead><tr><th>id</th><th>recip_id</th><th>name</th><th>party</th><th>seat</th><th>dummy4</th><th>dummy5</th><th>dummy6</th><th>dummy7</th><th>dummy8</th><th>dummy9</th></tr><tr><td>str</td><td>str</td><td>str</td><td>str</td><td>str</td><td>str</td><td>str</td><td>str</td><td>str</td><td>str</td><td>str</td></tr></thead><tbody><tr><td>&quot;H0AL02087&quot;</td><td>&quot;N00030768&quot;</td><td>&quot;Martha Roby (R)&quot;</td><td>&quot;R&quot;</td><td>&quot;AL02&quot;</td><td>&quot;AL02&quot;</td><td>&quot;Y&quot;</td><td>&quot;Y&quot;</td><td>&quot;I&quot;</td><td>&quot;RW&quot;</td><td>&quot; &quot;</td></tr><tr><td>&quot;H0AL05163&quot;</td><td>&quot;N00030910&quot;</td><td>&quot;Mo Brooks (R)&quot;</td><td>&quot;R&quot;</td><td>&quot;AL05&quot;</td><td>&quot;AL05&quot;</td><td>&quot;Y&quot;</td><td>&quot;Y&quot;</td><td>&quot;I&quot;</td><td>&quot;RW&quot;</td><td>&quot; &quot;</td></tr><tr><td>&quot;H0AL07086&quot;</td><td>&quot;N00030622&quot;</td><td>&quot;Terri A Sewell (D)&quot;</td><td>&quot;D&quot;</td><td>&quot;AL07&quot;</td><td>&quot;AL07&quot;</td><td>&quot;Y&quot;</td><td>&quot;Y&quot;</td><td>&quot;I&quot;</td><td>&quot;DW&quot;</td><td>&quot; &quot;</td></tr><tr><td>&quot;H0AR01083&quot;</td><td>&quot;N00030770&quot;</td><td>&quot;Rick Crawford (R)&quot;</td><td>&quot;R&quot;</td><td>&quot;AR01&quot;</td><td>&quot;AR01&quot;</td><td>&quot;Y&quot;</td><td>&quot;Y&quot;</td><td>&quot;I&quot;</td><td>&quot;RW&quot;</td><td>&quot; &quot;</td></tr><tr><td>&quot;H0AR03055&quot;</td><td>&quot;N00031857&quot;</td><td>&quot;Steve Womack (R)&quot;</td><td>&quot;R&quot;</td><td>&quot;AR03&quot;</td><td>&quot;AR03&quot;</td><td>&quot;Y&quot;</td><td>&quot;Y&quot;</td><td>&quot;I&quot;</td><td>&quot;RW&quot;</td><td>&quot; &quot;</td></tr></tbody></table></div>"
      ],
      "text/plain": [
       "shape: (5, 11)\n",
       "┌───────────┬───────────┬────────────────────┬───────┬───┬────────┬────────┬────────┬────────┐\n",
       "│ id        ┆ recip_id  ┆ name               ┆ party ┆ … ┆ dummy6 ┆ dummy7 ┆ dummy8 ┆ dummy9 │\n",
       "│ ---       ┆ ---       ┆ ---                ┆ ---   ┆   ┆ ---    ┆ ---    ┆ ---    ┆ ---    │\n",
       "│ str       ┆ str       ┆ str                ┆ str   ┆   ┆ str    ┆ str    ┆ str    ┆ str    │\n",
       "╞═══════════╪═══════════╪════════════════════╪═══════╪═══╪════════╪════════╪════════╪════════╡\n",
       "│ H0AL02087 ┆ N00030768 ┆ Martha Roby (R)    ┆ R     ┆ … ┆ Y      ┆ I      ┆ RW     ┆        │\n",
       "│ H0AL05163 ┆ N00030910 ┆ Mo Brooks (R)      ┆ R     ┆ … ┆ Y      ┆ I      ┆ RW     ┆        │\n",
       "│ H0AL07086 ┆ N00030622 ┆ Terri A Sewell (D) ┆ D     ┆ … ┆ Y      ┆ I      ┆ DW     ┆        │\n",
       "│ H0AR01083 ┆ N00030770 ┆ Rick Crawford (R)  ┆ R     ┆ … ┆ Y      ┆ I      ┆ RW     ┆        │\n",
       "│ H0AR03055 ┆ N00031857 ┆ Steve Womack (R)   ┆ R     ┆ … ┆ Y      ┆ I      ┆ RW     ┆        │\n",
       "└───────────┴───────────┴────────────────────┴───────┴───┴────────┴────────┴────────┴────────┘"
      ]
     },
     "execution_count": 9,
     "metadata": {},
     "output_type": "execute_result"
    }
   ],
   "source": [
    "recipients_indian_dons = df.filter(pl.col(\"ethnic\") == \"ind\")[\"recip_id\"].to_list()\n",
    "cands_indian_donors = cands.filter(pl.col(\"recip_id\").is_in(recipients_indian_dons))\n",
    "cands_indian_donors.head(5)"
   ]
  },
  {
   "cell_type": "code",
   "execution_count": 10,
   "metadata": {},
   "outputs": [
    {
     "data": {
      "text/html": [
       "<div><style>\n",
       ".dataframe > thead > tr,\n",
       ".dataframe > tbody > tr {\n",
       "  text-align: right;\n",
       "  white-space: pre-wrap;\n",
       "}\n",
       "</style>\n",
       "<small>shape: (5, 2)</small><table border=\"1\" class=\"dataframe\"><thead><tr><th>party</th><th>count</th></tr><tr><td>str</td><td>u32</td></tr></thead><tbody><tr><td>&quot;D&quot;</td><td>706</td></tr><tr><td>&quot;R&quot;</td><td>453</td></tr><tr><td>&quot;I&quot;</td><td>11</td></tr><tr><td>&quot;L&quot;</td><td>4</td></tr><tr><td>&quot;3&quot;</td><td>3</td></tr></tbody></table></div>"
      ],
      "text/plain": [
       "shape: (5, 2)\n",
       "┌───────┬───────┐\n",
       "│ party ┆ count │\n",
       "│ ---   ┆ ---   │\n",
       "│ str   ┆ u32   │\n",
       "╞═══════╪═══════╡\n",
       "│ D     ┆ 706   │\n",
       "│ R     ┆ 453   │\n",
       "│ I     ┆ 11    │\n",
       "│ L     ┆ 4     │\n",
       "│ 3     ┆ 3     │\n",
       "└───────┴───────┘"
      ]
     },
     "execution_count": 10,
     "metadata": {},
     "output_type": "execute_result"
    }
   ],
   "source": [
    "cands_indian_donors[\"party\"].value_counts().sort(by=\"count\", descending=True)"
   ]
  },
  {
   "cell_type": "code",
   "execution_count": 11,
   "metadata": {},
   "outputs": [
    {
     "data": {
      "text/html": [
       "<div><style>\n",
       ".dataframe > thead > tr,\n",
       ".dataframe > tbody > tr {\n",
       "  text-align: right;\n",
       "  white-space: pre-wrap;\n",
       "}\n",
       "</style>\n",
       "<small>shape: (13, 2)</small><table border=\"1\" class=\"dataframe\"><thead><tr><th>dummy8</th><th>count</th></tr><tr><td>str</td><td>u32</td></tr></thead><tbody><tr><td>&quot;DL&quot;</td><td>353</td></tr><tr><td>&quot;DW&quot;</td><td>246</td></tr><tr><td>&quot;RL&quot;</td><td>189</td></tr><tr><td>&quot;RW&quot;</td><td>187</td></tr><tr><td>&quot;DN&quot;</td><td>72</td></tr><tr><td>&hellip;</td><td>&hellip;</td></tr><tr><td>&quot;3L&quot;</td><td>13</td></tr><tr><td>&quot;3W&quot;</td><td>3</td></tr><tr><td>&quot;3N&quot;</td><td>2</td></tr><tr><td>&quot;DO&quot;</td><td>1</td></tr><tr><td>&quot;RO&quot;</td><td>1</td></tr></tbody></table></div>"
      ],
      "text/plain": [
       "shape: (13, 2)\n",
       "┌────────┬───────┐\n",
       "│ dummy8 ┆ count │\n",
       "│ ---    ┆ ---   │\n",
       "│ str    ┆ u32   │\n",
       "╞════════╪═══════╡\n",
       "│ DL     ┆ 353   │\n",
       "│ DW     ┆ 246   │\n",
       "│ RL     ┆ 189   │\n",
       "│ RW     ┆ 187   │\n",
       "│ DN     ┆ 72    │\n",
       "│ …      ┆ …     │\n",
       "│ 3L     ┆ 13    │\n",
       "│ 3W     ┆ 3     │\n",
       "│ 3N     ┆ 2     │\n",
       "│ DO     ┆ 1     │\n",
       "│ RO     ┆ 1     │\n",
       "└────────┴───────┘"
      ]
     },
     "execution_count": 11,
     "metadata": {},
     "output_type": "execute_result"
    }
   ],
   "source": [
    "cands_indian_donors[\"dummy8\"].value_counts().sort(by=\"count\", descending=True)"
   ]
  },
  {
   "cell_type": "code",
   "execution_count": 12,
   "metadata": {},
   "outputs": [
    {
     "data": {
      "text/html": [
       "<div><style>\n",
       ".dataframe > thead > tr,\n",
       ".dataframe > tbody > tr {\n",
       "  text-align: right;\n",
       "  white-space: pre-wrap;\n",
       "}\n",
       "</style>\n",
       "<small>shape: (10, 13)</small><table border=\"1\" class=\"dataframe\"><thead><tr><th>id</th><th>recip_id</th><th>name</th><th>party</th><th>seat</th><th>dummy4</th><th>dummy5</th><th>dummy6</th><th>dummy7</th><th>dummy8</th><th>dummy9</th><th>total_amount</th><th>num_donations</th></tr><tr><td>str</td><td>str</td><td>str</td><td>str</td><td>str</td><td>str</td><td>str</td><td>str</td><td>str</td><td>str</td><td>str</td><td>f64</td><td>u32</td></tr></thead><tbody><tr><td>&quot;S8FL00273&quot;</td><td>&quot;N00043290&quot;</td><td>&quot;Rick Scott (R)&quot;</td><td>&quot;R&quot;</td><td>&quot;FLS1&quot;</td><td>&quot;&nbsp;&nbsp;&nbsp;&nbsp;&quot;</td><td>&quot;Y&quot;</td><td>&quot;Y&quot;</td><td>&quot;C&quot;</td><td>&quot;RW&quot;</td><td>&quot; &quot;</td><td>8.7427945e7</td><td>20941</td></tr><tr><td>&quot;H2TX16185&quot;</td><td>&quot;N00033540&quot;</td><td>&quot;Beto O&#x27;Rourke (D)&quot;</td><td>&quot;D&quot;</td><td>&quot;TXS2&quot;</td><td>&quot;&nbsp;&nbsp;&nbsp;&nbsp;&quot;</td><td>&quot; &quot;</td><td>&quot; &quot;</td><td>&quot;C&quot;</td><td>&quot;DL&quot;</td><td>&quot; &quot;</td><td>6.3951686e7</td><td>297862</td></tr><tr><td>&quot;S8TX00285&quot;</td><td>&quot;N00033540&quot;</td><td>&quot;Beto O&#x27;Rourke (D)&quot;</td><td>&quot;D&quot;</td><td>&quot;TXS2&quot;</td><td>&quot;TX16&quot;</td><td>&quot;Y&quot;</td><td>&quot;Y&quot;</td><td>&quot;C&quot;</td><td>&quot;DL&quot;</td><td>&quot;Y&quot;</td><td>6.3951686e7</td><td>297862</td></tr><tr><td>&quot;S6MO00305&quot;</td><td>&quot;N00027694&quot;</td><td>&quot;Claire McCaskill (D)&quot;</td><td>&quot;D&quot;</td><td>&quot;MOS2&quot;</td><td>&quot;MOS2&quot;</td><td>&quot;Y&quot;</td><td>&quot;Y&quot;</td><td>&quot;I&quot;</td><td>&quot;DL&quot;</td><td>&quot; &quot;</td><td>4.570206e7</td><td>147549</td></tr><tr><td>&quot;H6NV03139&quot;</td><td>&quot;N00038734&quot;</td><td>&quot;Jacky Rosen (D)&quot;</td><td>&quot;D&quot;</td><td>&quot;NVS1&quot;</td><td>&quot;&nbsp;&nbsp;&nbsp;&nbsp;&quot;</td><td>&quot; &quot;</td><td>&quot; &quot;</td><td>&quot;C&quot;</td><td>&quot;DW&quot;</td><td>&quot; &quot;</td><td>2.7239475e7</td><td>100838</td></tr><tr><td>&quot;S8NV00156&quot;</td><td>&quot;N00038734&quot;</td><td>&quot;Jacky Rosen (D)&quot;</td><td>&quot;D&quot;</td><td>&quot;NVS1&quot;</td><td>&quot;NV03&quot;</td><td>&quot;Y&quot;</td><td>&quot;Y&quot;</td><td>&quot;C&quot;</td><td>&quot;DW&quot;</td><td>&quot; &quot;</td><td>2.7239475e7</td><td>100838</td></tr><tr><td>&quot;S8FL00166&quot;</td><td>&quot;N00009926&quot;</td><td>&quot;Bill Nelson (D)&quot;</td><td>&quot;D&quot;</td><td>&quot;FLS1&quot;</td><td>&quot;FLS1&quot;</td><td>&quot;Y&quot;</td><td>&quot;Y&quot;</td><td>&quot;I&quot;</td><td>&quot;DL&quot;</td><td>&quot; &quot;</td><td>2.6347529e7</td><td>91719</td></tr><tr><td>&quot;S2ND00099&quot;</td><td>&quot;N00033782&quot;</td><td>&quot;Heidi Heitkamp (D)&quot;</td><td>&quot;D&quot;</td><td>&quot;NDS2&quot;</td><td>&quot;NDS2&quot;</td><td>&quot;Y&quot;</td><td>&quot;Y&quot;</td><td>&quot;I&quot;</td><td>&quot;DL&quot;</td><td>&quot; &quot;</td><td>2.5343279e7</td><td>70680</td></tr><tr><td>&quot;P60006111&quot;</td><td>&quot;N00033085&quot;</td><td>&quot;Ted Cruz (R)&quot;</td><td>&quot;R&quot;</td><td>&quot;TXS2&quot;</td><td>&quot;&nbsp;&nbsp;&nbsp;&nbsp;&quot;</td><td>&quot; &quot;</td><td>&quot; &quot;</td><td>&quot;I&quot;</td><td>&quot;RW&quot;</td><td>&quot; &quot;</td><td>2.5334071e7</td><td>146326</td></tr><tr><td>&quot;S2TX00312&quot;</td><td>&quot;N00033085&quot;</td><td>&quot;Ted Cruz (R)&quot;</td><td>&quot;R&quot;</td><td>&quot;TXS2&quot;</td><td>&quot;TXS2&quot;</td><td>&quot;Y&quot;</td><td>&quot;Y&quot;</td><td>&quot;I&quot;</td><td>&quot;RW&quot;</td><td>&quot; &quot;</td><td>2.5334071e7</td><td>146326</td></tr></tbody></table></div>"
      ],
      "text/plain": [
       "shape: (10, 13)\n",
       "┌───────────┬───────────┬──────────────┬───────┬───┬────────┬────────┬──────────────┬──────────────┐\n",
       "│ id        ┆ recip_id  ┆ name         ┆ party ┆ … ┆ dummy8 ┆ dummy9 ┆ total_amount ┆ num_donation │\n",
       "│ ---       ┆ ---       ┆ ---          ┆ ---   ┆   ┆ ---    ┆ ---    ┆ ---          ┆ s            │\n",
       "│ str       ┆ str       ┆ str          ┆ str   ┆   ┆ str    ┆ str    ┆ f64          ┆ ---          │\n",
       "│           ┆           ┆              ┆       ┆   ┆        ┆        ┆              ┆ u32          │\n",
       "╞═══════════╪═══════════╪══════════════╪═══════╪═══╪════════╪════════╪══════════════╪══════════════╡\n",
       "│ S8FL00273 ┆ N00043290 ┆ Rick Scott   ┆ R     ┆ … ┆ RW     ┆        ┆ 8.7427945e7  ┆ 20941        │\n",
       "│           ┆           ┆ (R)          ┆       ┆   ┆        ┆        ┆              ┆              │\n",
       "│ H2TX16185 ┆ N00033540 ┆ Beto         ┆ D     ┆ … ┆ DL     ┆        ┆ 6.3951686e7  ┆ 297862       │\n",
       "│           ┆           ┆ O'Rourke (D) ┆       ┆   ┆        ┆        ┆              ┆              │\n",
       "│ S8TX00285 ┆ N00033540 ┆ Beto         ┆ D     ┆ … ┆ DL     ┆ Y      ┆ 6.3951686e7  ┆ 297862       │\n",
       "│           ┆           ┆ O'Rourke (D) ┆       ┆   ┆        ┆        ┆              ┆              │\n",
       "│ S6MO00305 ┆ N00027694 ┆ Claire       ┆ D     ┆ … ┆ DL     ┆        ┆ 4.570206e7   ┆ 147549       │\n",
       "│           ┆           ┆ McCaskill    ┆       ┆   ┆        ┆        ┆              ┆              │\n",
       "│           ┆           ┆ (D)          ┆       ┆   ┆        ┆        ┆              ┆              │\n",
       "│ H6NV03139 ┆ N00038734 ┆ Jacky Rosen  ┆ D     ┆ … ┆ DW     ┆        ┆ 2.7239475e7  ┆ 100838       │\n",
       "│           ┆           ┆ (D)          ┆       ┆   ┆        ┆        ┆              ┆              │\n",
       "│ S8NV00156 ┆ N00038734 ┆ Jacky Rosen  ┆ D     ┆ … ┆ DW     ┆        ┆ 2.7239475e7  ┆ 100838       │\n",
       "│           ┆           ┆ (D)          ┆       ┆   ┆        ┆        ┆              ┆              │\n",
       "│ S8FL00166 ┆ N00009926 ┆ Bill Nelson  ┆ D     ┆ … ┆ DL     ┆        ┆ 2.6347529e7  ┆ 91719        │\n",
       "│           ┆           ┆ (D)          ┆       ┆   ┆        ┆        ┆              ┆              │\n",
       "│ S2ND00099 ┆ N00033782 ┆ Heidi        ┆ D     ┆ … ┆ DL     ┆        ┆ 2.5343279e7  ┆ 70680        │\n",
       "│           ┆           ┆ Heitkamp (D) ┆       ┆   ┆        ┆        ┆              ┆              │\n",
       "│ P60006111 ┆ N00033085 ┆ Ted Cruz (R) ┆ R     ┆ … ┆ RW     ┆        ┆ 2.5334071e7  ┆ 146326       │\n",
       "│ S2TX00312 ┆ N00033085 ┆ Ted Cruz (R) ┆ R     ┆ … ┆ RW     ┆        ┆ 2.5334071e7  ┆ 146326       │\n",
       "└───────────┴───────────┴──────────────┴───────┴───┴────────┴────────┴──────────────┴──────────────┘"
      ]
     },
     "execution_count": 12,
     "metadata": {},
     "output_type": "execute_result"
    }
   ],
   "source": [
    "donations = (\n",
    "    df.group_by(\"recip_id\")\n",
    "    .agg(pl.sum(\"amount\").alias(\"total_amount\"),\n",
    "         pl.count(\"amount\").alias(\"num_donations\"))\n",
    ")\n",
    "\n",
    "receipts = cands.join(donations, on=\"recip_id\", how=\"left\").fill_null(0)\n",
    "receipts = receipts.sort(\"total_amount\", descending=True)\n",
    "receipts[:10]"
   ]
  },
  {
   "cell_type": "code",
   "execution_count": 13,
   "metadata": {},
   "outputs": [
    {
     "data": {
      "text/html": [
       "<div><style>\n",
       ".dataframe > thead > tr,\n",
       ".dataframe > tbody > tr {\n",
       "  text-align: right;\n",
       "  white-space: pre-wrap;\n",
       "}\n",
       "</style>\n",
       "<small>shape: (10, 13)</small><table border=\"1\" class=\"dataframe\"><thead><tr><th>id</th><th>recip_id</th><th>name</th><th>party</th><th>seat</th><th>dummy4</th><th>dummy5</th><th>dummy6</th><th>dummy7</th><th>dummy8</th><th>dummy9</th><th>total_amount</th><th>num_donations</th></tr><tr><td>str</td><td>str</td><td>str</td><td>str</td><td>str</td><td>str</td><td>str</td><td>str</td><td>str</td><td>str</td><td>str</td><td>f64</td><td>u32</td></tr></thead><tbody><tr><td>&quot;S8MA00268&quot;</td><td>&quot;N00041034&quot;</td><td>&quot;Shiva Ayyadurai (I)&quot;</td><td>&quot;I&quot;</td><td>&quot;MAS1&quot;</td><td>&quot;&nbsp;&nbsp;&nbsp;&nbsp;&quot;</td><td>&quot;Y&quot;</td><td>&quot;Y&quot;</td><td>&quot;C&quot;</td><td>&quot;3L&quot;</td><td>&quot; &quot;</td><td>4.825763e6</td><td>42</td></tr><tr><td>&quot;H8NY12129&quot;</td><td>&quot;N00041983&quot;</td><td>&quot;Suraj Patel (D)&quot;</td><td>&quot;D&quot;</td><td>&quot;NY12&quot;</td><td>&quot;&nbsp;&nbsp;&nbsp;&nbsp;&quot;</td><td>&quot; &quot;</td><td>&quot;Y&quot;</td><td>&quot;C&quot;</td><td>&quot;DL&quot;</td><td>&quot; &quot;</td><td>1.757948e6</td><td>941</td></tr><tr><td>&quot;H6IL08147&quot;</td><td>&quot;N00033240&quot;</td><td>&quot;Raja Krishnamoorthi (D)&quot;</td><td>&quot;D&quot;</td><td>&quot;IL08&quot;</td><td>&quot;IL08&quot;</td><td>&quot;Y&quot;</td><td>&quot;Y&quot;</td><td>&quot;I&quot;</td><td>&quot;DW&quot;</td><td>&quot; &quot;</td><td>1.090927e6</td><td>1222</td></tr><tr><td>&quot;H8TX29086&quot;</td><td>&quot;N00042285&quot;</td><td>&quot;Tahir Javed (D)&quot;</td><td>&quot;D&quot;</td><td>&quot;TX29&quot;</td><td>&quot;&nbsp;&nbsp;&nbsp;&nbsp;&quot;</td><td>&quot; &quot;</td><td>&quot;Y&quot;</td><td>&quot;O&quot;</td><td>&quot;DL&quot;</td><td>&quot; &quot;</td><td>741016.0</td><td>129</td></tr><tr><td>&quot;H2TX16185&quot;</td><td>&quot;N00033540&quot;</td><td>&quot;Beto O&#x27;Rourke (D)&quot;</td><td>&quot;D&quot;</td><td>&quot;TXS2&quot;</td><td>&quot;&nbsp;&nbsp;&nbsp;&nbsp;&quot;</td><td>&quot; &quot;</td><td>&quot; &quot;</td><td>&quot;C&quot;</td><td>&quot;DL&quot;</td><td>&quot; &quot;</td><td>536476.0</td><td>1716</td></tr><tr><td>&quot;S8TX00285&quot;</td><td>&quot;N00033540&quot;</td><td>&quot;Beto O&#x27;Rourke (D)&quot;</td><td>&quot;D&quot;</td><td>&quot;TXS2&quot;</td><td>&quot;TX16&quot;</td><td>&quot;Y&quot;</td><td>&quot;Y&quot;</td><td>&quot;C&quot;</td><td>&quot;DL&quot;</td><td>&quot;Y&quot;</td><td>536476.0</td><td>1716</td></tr><tr><td>&quot;H4CA12055&quot;</td><td>&quot;N00026427&quot;</td><td>&quot;Ro Khanna (D)&quot;</td><td>&quot;D&quot;</td><td>&quot;CA17&quot;</td><td>&quot;CA17&quot;</td><td>&quot;Y&quot;</td><td>&quot;Y&quot;</td><td>&quot;I&quot;</td><td>&quot;DW&quot;</td><td>&quot;Y&quot;</td><td>507647.0</td><td>326</td></tr><tr><td>&quot;H8MA22015&quot;</td><td>&quot;N00042142&quot;</td><td>&quot;Sri Kulkarni (D)&quot;</td><td>&quot;D&quot;</td><td>&quot;TX22&quot;</td><td>&quot;&nbsp;&nbsp;&nbsp;&nbsp;&quot;</td><td>&quot; &quot;</td><td>&quot; &quot;</td><td>&quot;C&quot;</td><td>&quot;DL&quot;</td><td>&quot; &quot;</td><td>479455.0</td><td>556</td></tr><tr><td>&quot;H8TX22289&quot;</td><td>&quot;N00042142&quot;</td><td>&quot;Sri Kulkarni (D)&quot;</td><td>&quot;D&quot;</td><td>&quot;TX22&quot;</td><td>&quot;&nbsp;&nbsp;&nbsp;&nbsp;&quot;</td><td>&quot;Y&quot;</td><td>&quot;Y&quot;</td><td>&quot;C&quot;</td><td>&quot;DL&quot;</td><td>&quot; &quot;</td><td>479455.0</td><td>556</td></tr><tr><td>&quot;H8TX22313&quot;</td><td>&quot;N00042142&quot;</td><td>&quot;Sri Kulkarni (D)&quot;</td><td>&quot;D&quot;</td><td>&quot;TX22&quot;</td><td>&quot;&nbsp;&nbsp;&nbsp;&nbsp;&quot;</td><td>&quot; &quot;</td><td>&quot; &quot;</td><td>&quot;C&quot;</td><td>&quot;DL&quot;</td><td>&quot; &quot;</td><td>479455.0</td><td>556</td></tr></tbody></table></div>"
      ],
      "text/plain": [
       "shape: (10, 13)\n",
       "┌───────────┬───────────┬──────────────┬───────┬───┬────────┬────────┬──────────────┬──────────────┐\n",
       "│ id        ┆ recip_id  ┆ name         ┆ party ┆ … ┆ dummy8 ┆ dummy9 ┆ total_amount ┆ num_donation │\n",
       "│ ---       ┆ ---       ┆ ---          ┆ ---   ┆   ┆ ---    ┆ ---    ┆ ---          ┆ s            │\n",
       "│ str       ┆ str       ┆ str          ┆ str   ┆   ┆ str    ┆ str    ┆ f64          ┆ ---          │\n",
       "│           ┆           ┆              ┆       ┆   ┆        ┆        ┆              ┆ u32          │\n",
       "╞═══════════╪═══════════╪══════════════╪═══════╪═══╪════════╪════════╪══════════════╪══════════════╡\n",
       "│ S8MA00268 ┆ N00041034 ┆ Shiva        ┆ I     ┆ … ┆ 3L     ┆        ┆ 4.825763e6   ┆ 42           │\n",
       "│           ┆           ┆ Ayyadurai    ┆       ┆   ┆        ┆        ┆              ┆              │\n",
       "│           ┆           ┆ (I)          ┆       ┆   ┆        ┆        ┆              ┆              │\n",
       "│ H8NY12129 ┆ N00041983 ┆ Suraj Patel  ┆ D     ┆ … ┆ DL     ┆        ┆ 1.757948e6   ┆ 941          │\n",
       "│           ┆           ┆ (D)          ┆       ┆   ┆        ┆        ┆              ┆              │\n",
       "│ H6IL08147 ┆ N00033240 ┆ Raja Krishna ┆ D     ┆ … ┆ DW     ┆        ┆ 1.090927e6   ┆ 1222         │\n",
       "│           ┆           ┆ moorthi (D)  ┆       ┆   ┆        ┆        ┆              ┆              │\n",
       "│ H8TX29086 ┆ N00042285 ┆ Tahir Javed  ┆ D     ┆ … ┆ DL     ┆        ┆ 741016.0     ┆ 129          │\n",
       "│           ┆           ┆ (D)          ┆       ┆   ┆        ┆        ┆              ┆              │\n",
       "│ H2TX16185 ┆ N00033540 ┆ Beto         ┆ D     ┆ … ┆ DL     ┆        ┆ 536476.0     ┆ 1716         │\n",
       "│           ┆           ┆ O'Rourke (D) ┆       ┆   ┆        ┆        ┆              ┆              │\n",
       "│ S8TX00285 ┆ N00033540 ┆ Beto         ┆ D     ┆ … ┆ DL     ┆ Y      ┆ 536476.0     ┆ 1716         │\n",
       "│           ┆           ┆ O'Rourke (D) ┆       ┆   ┆        ┆        ┆              ┆              │\n",
       "│ H4CA12055 ┆ N00026427 ┆ Ro Khanna    ┆ D     ┆ … ┆ DW     ┆ Y      ┆ 507647.0     ┆ 326          │\n",
       "│           ┆           ┆ (D)          ┆       ┆   ┆        ┆        ┆              ┆              │\n",
       "│ H8MA22015 ┆ N00042142 ┆ Sri Kulkarni ┆ D     ┆ … ┆ DL     ┆        ┆ 479455.0     ┆ 556          │\n",
       "│           ┆           ┆ (D)          ┆       ┆   ┆        ┆        ┆              ┆              │\n",
       "│ H8TX22289 ┆ N00042142 ┆ Sri Kulkarni ┆ D     ┆ … ┆ DL     ┆        ┆ 479455.0     ┆ 556          │\n",
       "│           ┆           ┆ (D)          ┆       ┆   ┆        ┆        ┆              ┆              │\n",
       "│ H8TX22313 ┆ N00042142 ┆ Sri Kulkarni ┆ D     ┆ … ┆ DL     ┆        ┆ 479455.0     ┆ 556          │\n",
       "│           ┆           ┆ (D)          ┆       ┆   ┆        ┆        ┆              ┆              │\n",
       "└───────────┴───────────┴──────────────┴───────┴───┴────────┴────────┴──────────────┴──────────────┘"
      ]
     },
     "execution_count": 13,
     "metadata": {},
     "output_type": "execute_result"
    }
   ],
   "source": [
    "df_indian = df.filter(pl.col(\"ethnic\") == \"ind\")\n",
    "\n",
    "donations_indian = (\n",
    "    df_indian.group_by(\"recip_id\")\n",
    "    .agg(pl.sum(\"amount\").alias(\"total_amount\"),\n",
    "         pl.count(\"amount\").alias(\"num_donations\"))\n",
    ")\n",
    "\n",
    "receipts_indian = cands.join(donations_indian, on=\"recip_id\", how=\"left\").fill_null(0)\n",
    "receipts_indian = receipts_indian.sort(\"total_amount\", descending=True)\n",
    "receipts_indian[:10]"
   ]
  },
  {
   "cell_type": "code",
   "execution_count": 14,
   "metadata": {},
   "outputs": [
    {
     "name": "stdout",
     "output_type": "stream",
     "text": [
      "2511935884.0\n",
      "34353464.0\n"
     ]
    }
   ],
   "source": [
    "print(receipts[\"total_amount\"].sum())\n",
    "print(receipts_indian[\"total_amount\"].sum())"
   ]
  },
  {
   "cell_type": "code",
   "execution_count": 21,
   "metadata": {},
   "outputs": [
    {
     "data": {
      "image/png": "[encoded data removed]",
      "text/plain": [
       "<Figure size 800x400 with 1 Axes>"
      ]
     },
     "metadata": {},
     "output_type": "display_data"
    }
   ],
   "source": [
    "labels = ['706 Democrats', '453 Republicans', '11 Independents', '3 Libertarians']\n",
    "sizes = [706, 453, 11, 3]\n",
    "\n",
    "plt.figure(figsize=(8, 4))\n",
    "plt.pie(sizes, \n",
    "        labels=labels, \n",
    "        colors=[\"#440154\", \"#21918c\", \"#fde725\", \"#fcae91\"],\n",
    "        startangle=90,\n",
    "        wedgeprops={'linewidth': 1, 'edgecolor': 'black'},\n",
    "        textprops={'fontsize': 8})\n",
    "\n",
    "plt.title('Candidates receiving from Indian-American donors', pad=20, fontsize=12)\n",
    "plt.axis('equal')\n",
    "plt.legend(loc='upper right', bbox_to_anchor=(1, 0.9))\n",
    "plt.tight_layout()\n",
    "plt.show()"
   ]
  },
  {
   "cell_type": "code",
   "execution_count": 16,
   "metadata": {},
   "outputs": [
    {
     "data": {
      "text/html": [
       "<div><style>\n",
       ".dataframe > thead > tr,\n",
       ".dataframe > tbody > tr {\n",
       "  text-align: right;\n",
       "  white-space: pre-wrap;\n",
       "}\n",
       "</style>\n",
       "<small>shape: (10, 15)</small><table border=\"1\" class=\"dataframe\"><thead><tr><th>id</th><th>recip_id</th><th>name</th><th>party</th><th>seat</th><th>dummy4</th><th>dummy5</th><th>dummy6</th><th>dummy7</th><th>dummy8</th><th>dummy9</th><th>total_amount</th><th>num_donations</th><th>total_amount_right</th><th>pct_share</th></tr><tr><td>str</td><td>str</td><td>str</td><td>str</td><td>str</td><td>str</td><td>str</td><td>str</td><td>str</td><td>str</td><td>str</td><td>f64</td><td>u32</td><td>f64</td><td>f64</td></tr></thead><tbody><tr><td>&quot;S8FL00273&quot;</td><td>&quot;N00043290&quot;</td><td>&quot;Rick Scott (R)&quot;</td><td>&quot;R&quot;</td><td>&quot;FLS1&quot;</td><td>&quot;&nbsp;&nbsp;&nbsp;&nbsp;&quot;</td><td>&quot;Y&quot;</td><td>&quot;Y&quot;</td><td>&quot;C&quot;</td><td>&quot;RW&quot;</td><td>&quot; &quot;</td><td>140450.0</td><td>89</td><td>8.7427945e7</td><td>0.160647</td></tr><tr><td>&quot;H2TX16185&quot;</td><td>&quot;N00033540&quot;</td><td>&quot;Beto O&#x27;Rourke (D)&quot;</td><td>&quot;D&quot;</td><td>&quot;TXS2&quot;</td><td>&quot;&nbsp;&nbsp;&nbsp;&nbsp;&quot;</td><td>&quot; &quot;</td><td>&quot; &quot;</td><td>&quot;C&quot;</td><td>&quot;DL&quot;</td><td>&quot; &quot;</td><td>536476.0</td><td>1716</td><td>6.3951686e7</td><td>0.838877</td></tr><tr><td>&quot;S8TX00285&quot;</td><td>&quot;N00033540&quot;</td><td>&quot;Beto O&#x27;Rourke (D)&quot;</td><td>&quot;D&quot;</td><td>&quot;TXS2&quot;</td><td>&quot;TX16&quot;</td><td>&quot;Y&quot;</td><td>&quot;Y&quot;</td><td>&quot;C&quot;</td><td>&quot;DL&quot;</td><td>&quot;Y&quot;</td><td>536476.0</td><td>1716</td><td>6.3951686e7</td><td>0.838877</td></tr><tr><td>&quot;H2TX16185&quot;</td><td>&quot;N00033540&quot;</td><td>&quot;Beto O&#x27;Rourke (D)&quot;</td><td>&quot;D&quot;</td><td>&quot;TXS2&quot;</td><td>&quot;&nbsp;&nbsp;&nbsp;&nbsp;&quot;</td><td>&quot; &quot;</td><td>&quot; &quot;</td><td>&quot;C&quot;</td><td>&quot;DL&quot;</td><td>&quot; &quot;</td><td>536476.0</td><td>1716</td><td>6.3951686e7</td><td>0.838877</td></tr><tr><td>&quot;S8TX00285&quot;</td><td>&quot;N00033540&quot;</td><td>&quot;Beto O&#x27;Rourke (D)&quot;</td><td>&quot;D&quot;</td><td>&quot;TXS2&quot;</td><td>&quot;TX16&quot;</td><td>&quot;Y&quot;</td><td>&quot;Y&quot;</td><td>&quot;C&quot;</td><td>&quot;DL&quot;</td><td>&quot;Y&quot;</td><td>536476.0</td><td>1716</td><td>6.3951686e7</td><td>0.838877</td></tr><tr><td>&quot;S6MO00305&quot;</td><td>&quot;N00027694&quot;</td><td>&quot;Claire McCaskill (D)&quot;</td><td>&quot;D&quot;</td><td>&quot;MOS2&quot;</td><td>&quot;MOS2&quot;</td><td>&quot;Y&quot;</td><td>&quot;Y&quot;</td><td>&quot;I&quot;</td><td>&quot;DL&quot;</td><td>&quot; &quot;</td><td>293790.0</td><td>647</td><td>4.570206e7</td><td>0.642838</td></tr><tr><td>&quot;H6NV03139&quot;</td><td>&quot;N00038734&quot;</td><td>&quot;Jacky Rosen (D)&quot;</td><td>&quot;D&quot;</td><td>&quot;NVS1&quot;</td><td>&quot;&nbsp;&nbsp;&nbsp;&nbsp;&quot;</td><td>&quot; &quot;</td><td>&quot; &quot;</td><td>&quot;C&quot;</td><td>&quot;DW&quot;</td><td>&quot; &quot;</td><td>250349.0</td><td>579</td><td>2.7239475e7</td><td>0.919067</td></tr><tr><td>&quot;S8NV00156&quot;</td><td>&quot;N00038734&quot;</td><td>&quot;Jacky Rosen (D)&quot;</td><td>&quot;D&quot;</td><td>&quot;NVS1&quot;</td><td>&quot;NV03&quot;</td><td>&quot;Y&quot;</td><td>&quot;Y&quot;</td><td>&quot;C&quot;</td><td>&quot;DW&quot;</td><td>&quot; &quot;</td><td>250349.0</td><td>579</td><td>2.7239475e7</td><td>0.919067</td></tr><tr><td>&quot;H6NV03139&quot;</td><td>&quot;N00038734&quot;</td><td>&quot;Jacky Rosen (D)&quot;</td><td>&quot;D&quot;</td><td>&quot;NVS1&quot;</td><td>&quot;&nbsp;&nbsp;&nbsp;&nbsp;&quot;</td><td>&quot; &quot;</td><td>&quot; &quot;</td><td>&quot;C&quot;</td><td>&quot;DW&quot;</td><td>&quot; &quot;</td><td>250349.0</td><td>579</td><td>2.7239475e7</td><td>0.919067</td></tr><tr><td>&quot;S8NV00156&quot;</td><td>&quot;N00038734&quot;</td><td>&quot;Jacky Rosen (D)&quot;</td><td>&quot;D&quot;</td><td>&quot;NVS1&quot;</td><td>&quot;NV03&quot;</td><td>&quot;Y&quot;</td><td>&quot;Y&quot;</td><td>&quot;C&quot;</td><td>&quot;DW&quot;</td><td>&quot; &quot;</td><td>250349.0</td><td>579</td><td>2.7239475e7</td><td>0.919067</td></tr></tbody></table></div>"
      ],
      "text/plain": [
       "shape: (10, 15)\n",
       "┌───────────┬───────────┬────────────┬───────┬───┬────────────┬────────────┬───────────┬───────────┐\n",
       "│ id        ┆ recip_id  ┆ name       ┆ party ┆ … ┆ total_amou ┆ num_donati ┆ total_amo ┆ pct_share │\n",
       "│ ---       ┆ ---       ┆ ---        ┆ ---   ┆   ┆ nt         ┆ ons        ┆ unt_right ┆ ---       │\n",
       "│ str       ┆ str       ┆ str        ┆ str   ┆   ┆ ---        ┆ ---        ┆ ---       ┆ f64       │\n",
       "│           ┆           ┆            ┆       ┆   ┆ f64        ┆ u32        ┆ f64       ┆           │\n",
       "╞═══════════╪═══════════╪════════════╪═══════╪═══╪════════════╪════════════╪═══════════╪═══════════╡\n",
       "│ S8FL00273 ┆ N00043290 ┆ Rick Scott ┆ R     ┆ … ┆ 140450.0   ┆ 89         ┆ 8.7427945 ┆ 0.160647  │\n",
       "│           ┆           ┆ (R)        ┆       ┆   ┆            ┆            ┆ e7        ┆           │\n",
       "│ H2TX16185 ┆ N00033540 ┆ Beto       ┆ D     ┆ … ┆ 536476.0   ┆ 1716       ┆ 6.3951686 ┆ 0.838877  │\n",
       "│           ┆           ┆ O'Rourke   ┆       ┆   ┆            ┆            ┆ e7        ┆           │\n",
       "│           ┆           ┆ (D)        ┆       ┆   ┆            ┆            ┆           ┆           │\n",
       "│ S8TX00285 ┆ N00033540 ┆ Beto       ┆ D     ┆ … ┆ 536476.0   ┆ 1716       ┆ 6.3951686 ┆ 0.838877  │\n",
       "│           ┆           ┆ O'Rourke   ┆       ┆   ┆            ┆            ┆ e7        ┆           │\n",
       "│           ┆           ┆ (D)        ┆       ┆   ┆            ┆            ┆           ┆           │\n",
       "│ H2TX16185 ┆ N00033540 ┆ Beto       ┆ D     ┆ … ┆ 536476.0   ┆ 1716       ┆ 6.3951686 ┆ 0.838877  │\n",
       "│           ┆           ┆ O'Rourke   ┆       ┆   ┆            ┆            ┆ e7        ┆           │\n",
       "│           ┆           ┆ (D)        ┆       ┆   ┆            ┆            ┆           ┆           │\n",
       "│ S8TX00285 ┆ N00033540 ┆ Beto       ┆ D     ┆ … ┆ 536476.0   ┆ 1716       ┆ 6.3951686 ┆ 0.838877  │\n",
       "│           ┆           ┆ O'Rourke   ┆       ┆   ┆            ┆            ┆ e7        ┆           │\n",
       "│           ┆           ┆ (D)        ┆       ┆   ┆            ┆            ┆           ┆           │\n",
       "│ S6MO00305 ┆ N00027694 ┆ Claire     ┆ D     ┆ … ┆ 293790.0   ┆ 647        ┆ 4.570206e ┆ 0.642838  │\n",
       "│           ┆           ┆ McCaskill  ┆       ┆   ┆            ┆            ┆ 7         ┆           │\n",
       "│           ┆           ┆ (D)        ┆       ┆   ┆            ┆            ┆           ┆           │\n",
       "│ H6NV03139 ┆ N00038734 ┆ Jacky      ┆ D     ┆ … ┆ 250349.0   ┆ 579        ┆ 2.7239475 ┆ 0.919067  │\n",
       "│           ┆           ┆ Rosen (D)  ┆       ┆   ┆            ┆            ┆ e7        ┆           │\n",
       "│ S8NV00156 ┆ N00038734 ┆ Jacky      ┆ D     ┆ … ┆ 250349.0   ┆ 579        ┆ 2.7239475 ┆ 0.919067  │\n",
       "│           ┆           ┆ Rosen (D)  ┆       ┆   ┆            ┆            ┆ e7        ┆           │\n",
       "│ H6NV03139 ┆ N00038734 ┆ Jacky      ┆ D     ┆ … ┆ 250349.0   ┆ 579        ┆ 2.7239475 ┆ 0.919067  │\n",
       "│           ┆           ┆ Rosen (D)  ┆       ┆   ┆            ┆            ┆ e7        ┆           │\n",
       "│ S8NV00156 ┆ N00038734 ┆ Jacky      ┆ D     ┆ … ┆ 250349.0   ┆ 579        ┆ 2.7239475 ┆ 0.919067  │\n",
       "│           ┆           ┆ Rosen (D)  ┆       ┆   ┆            ┆            ┆ e7        ┆           │\n",
       "└───────────┴───────────┴────────────┴───────┴───┴────────────┴────────────┴───────────┴───────────┘"
      ]
     },
     "execution_count": 16,
     "metadata": {},
     "output_type": "execute_result"
    }
   ],
   "source": [
    "receipts_merged = receipts_indian.join(\n",
    "    receipts.select([\"recip_id\", \"total_amount\"]),\n",
    "    on=\"recip_id\",\n",
    "    how=\"inner\"\n",
    ")\n",
    "\n",
    "receipts_merged = receipts_merged.with_columns(\n",
    "    (pl.col(\"total_amount\") / \n",
    "    pl.col(\"total_amount_right\") * 100)\n",
    "    .alias(\"pct_share\")\n",
    ")\n",
    "\n",
    "receipts_merged.head(10)"
   ]
  },
  {
   "cell_type": "code",
   "execution_count": 17,
   "metadata": {},
   "outputs": [
    {
     "data": {
      "text/html": [
       "<div><style>\n",
       ".dataframe > thead > tr,\n",
       ".dataframe > tbody > tr {\n",
       "  text-align: right;\n",
       "  white-space: pre-wrap;\n",
       "}\n",
       "</style>\n",
       "<small>shape: (10, 15)</small><table border=\"1\" class=\"dataframe\"><thead><tr><th>id</th><th>recip_id</th><th>name</th><th>party</th><th>seat</th><th>dummy4</th><th>dummy5</th><th>dummy6</th><th>dummy7</th><th>dummy8</th><th>dummy9</th><th>total_amount</th><th>num_donations</th><th>total_amount_right</th><th>pct_share</th></tr><tr><td>str</td><td>str</td><td>str</td><td>str</td><td>str</td><td>str</td><td>str</td><td>str</td><td>str</td><td>str</td><td>str</td><td>f64</td><td>u32</td><td>f64</td><td>f64</td></tr></thead><tbody><tr><td>&quot;H6AZ01181&quot;</td><td>&quot;N00013843&quot;</td><td>&quot;Miguel Olivas (D)&quot;</td><td>&quot;D&quot;</td><td>&quot;AZ01&quot;</td><td>&quot;&nbsp;&nbsp;&nbsp;&nbsp;&quot;</td><td>&quot; &quot;</td><td>&quot; &quot;</td><td>&quot; &quot;</td><td>&quot;DN&quot;</td><td>&quot; &quot;</td><td>1000.0</td><td>1</td><td>1000.0</td><td>100.0</td></tr><tr><td>&quot;H0KS04077&quot;</td><td>&quot;N00030933&quot;</td><td>&quot;Raj Goyle (D)&quot;</td><td>&quot;D&quot;</td><td>&quot;KS04&quot;</td><td>&quot;&nbsp;&nbsp;&nbsp;&nbsp;&quot;</td><td>&quot; &quot;</td><td>&quot; &quot;</td><td>&quot; &quot;</td><td>&quot;DN&quot;</td><td>&quot; &quot;</td><td>750.0</td><td>5</td><td>750.0</td><td>100.0</td></tr><tr><td>&quot;S8MA00268&quot;</td><td>&quot;N00041034&quot;</td><td>&quot;Shiva Ayyadurai (I)&quot;</td><td>&quot;I&quot;</td><td>&quot;MAS1&quot;</td><td>&quot;&nbsp;&nbsp;&nbsp;&nbsp;&quot;</td><td>&quot;Y&quot;</td><td>&quot;Y&quot;</td><td>&quot;C&quot;</td><td>&quot;3L&quot;</td><td>&quot; &quot;</td><td>4.825763e6</td><td>42</td><td>4.955184e6</td><td>97.38817</td></tr><tr><td>&quot;H8TX02158&quot;</td><td>&quot;N00042223&quot;</td><td>&quot;Silky Malik (D)&quot;</td><td>&quot;D&quot;</td><td>&quot;TX02&quot;</td><td>&quot;&nbsp;&nbsp;&nbsp;&nbsp;&quot;</td><td>&quot; &quot;</td><td>&quot;Y&quot;</td><td>&quot;O&quot;</td><td>&quot;DL&quot;</td><td>&quot; &quot;</td><td>9104.0</td><td>8</td><td>11571.0</td><td>78.679457</td></tr><tr><td>&quot;H8NY12129&quot;</td><td>&quot;N00041983&quot;</td><td>&quot;Suraj Patel (D)&quot;</td><td>&quot;D&quot;</td><td>&quot;NY12&quot;</td><td>&quot;&nbsp;&nbsp;&nbsp;&nbsp;&quot;</td><td>&quot; &quot;</td><td>&quot;Y&quot;</td><td>&quot;C&quot;</td><td>&quot;DL&quot;</td><td>&quot; &quot;</td><td>1.757948e6</td><td>941</td><td>2.253296e6</td><td>78.016736</td></tr><tr><td>&quot;H8IL08119&quot;</td><td>&quot;N00042119&quot;</td><td>&quot;Vandana Jhingan (R)&quot;</td><td>&quot;R&quot;</td><td>&quot;IL08&quot;</td><td>&quot;&nbsp;&nbsp;&nbsp;&nbsp;&quot;</td><td>&quot; &quot;</td><td>&quot;Y&quot;</td><td>&quot;C&quot;</td><td>&quot;RN&quot;</td><td>&quot; &quot;</td><td>46100.0</td><td>20</td><td>62400.0</td><td>73.878205</td></tr><tr><td>&quot;H8IL08101&quot;</td><td>&quot;N00042118&quot;</td><td>&quot;Jitendra Diganvker (R)&quot;</td><td>&quot;R&quot;</td><td>&quot;IL08&quot;</td><td>&quot;&nbsp;&nbsp;&nbsp;&nbsp;&quot;</td><td>&quot;Y&quot;</td><td>&quot;Y&quot;</td><td>&quot;C&quot;</td><td>&quot;RL&quot;</td><td>&quot; &quot;</td><td>34905.0</td><td>42</td><td>51919.0</td><td>67.229723</td></tr><tr><td>&quot;H8CT04214&quot;</td><td>&quot;N00042089&quot;</td><td>&quot;Harry Arora (R)&quot;</td><td>&quot;R&quot;</td><td>&quot;CT04&quot;</td><td>&quot;&nbsp;&nbsp;&nbsp;&nbsp;&quot;</td><td>&quot;Y&quot;</td><td>&quot;Y&quot;</td><td>&quot;C&quot;</td><td>&quot;RL&quot;</td><td>&quot; &quot;</td><td>318950.0</td><td>34</td><td>490721.0</td><td>64.996199</td></tr><tr><td>&quot;H8CA48084&quot;</td><td>&quot;N00041312&quot;</td><td>&quot;Omar Siddiqui (D)&quot;</td><td>&quot;D&quot;</td><td>&quot;CA48&quot;</td><td>&quot;&nbsp;&nbsp;&nbsp;&nbsp;&quot;</td><td>&quot; &quot;</td><td>&quot;Y&quot;</td><td>&quot;C&quot;</td><td>&quot;DL&quot;</td><td>&quot; &quot;</td><td>318619.0</td><td>68</td><td>528852.0</td><td>60.24729</td></tr><tr><td>&quot;H4CA30123&quot;</td><td>&quot;N00036728&quot;</td><td>&quot;Raji Rab (D)&quot;</td><td>&quot;D&quot;</td><td>&quot;CA30&quot;</td><td>&quot;&nbsp;&nbsp;&nbsp;&nbsp;&quot;</td><td>&quot; &quot;</td><td>&quot;Y&quot;</td><td>&quot;C&quot;</td><td>&quot;DL&quot;</td><td>&quot; &quot;</td><td>17700.0</td><td>7</td><td>29900.0</td><td>59.197324</td></tr></tbody></table></div>"
      ],
      "text/plain": [
       "shape: (10, 15)\n",
       "┌───────────┬───────────┬────────────┬───────┬───┬────────────┬────────────┬───────────┬───────────┐\n",
       "│ id        ┆ recip_id  ┆ name       ┆ party ┆ … ┆ total_amou ┆ num_donati ┆ total_amo ┆ pct_share │\n",
       "│ ---       ┆ ---       ┆ ---        ┆ ---   ┆   ┆ nt         ┆ ons        ┆ unt_right ┆ ---       │\n",
       "│ str       ┆ str       ┆ str        ┆ str   ┆   ┆ ---        ┆ ---        ┆ ---       ┆ f64       │\n",
       "│           ┆           ┆            ┆       ┆   ┆ f64        ┆ u32        ┆ f64       ┆           │\n",
       "╞═══════════╪═══════════╪════════════╪═══════╪═══╪════════════╪════════════╪═══════════╪═══════════╡\n",
       "│ H6AZ01181 ┆ N00013843 ┆ Miguel     ┆ D     ┆ … ┆ 1000.0     ┆ 1          ┆ 1000.0    ┆ 100.0     │\n",
       "│           ┆           ┆ Olivas (D) ┆       ┆   ┆            ┆            ┆           ┆           │\n",
       "│ H0KS04077 ┆ N00030933 ┆ Raj Goyle  ┆ D     ┆ … ┆ 750.0      ┆ 5          ┆ 750.0     ┆ 100.0     │\n",
       "│           ┆           ┆ (D)        ┆       ┆   ┆            ┆            ┆           ┆           │\n",
       "│ S8MA00268 ┆ N00041034 ┆ Shiva      ┆ I     ┆ … ┆ 4.825763e6 ┆ 42         ┆ 4.955184e ┆ 97.38817  │\n",
       "│           ┆           ┆ Ayyadurai  ┆       ┆   ┆            ┆            ┆ 6         ┆           │\n",
       "│           ┆           ┆ (I)        ┆       ┆   ┆            ┆            ┆           ┆           │\n",
       "│ H8TX02158 ┆ N00042223 ┆ Silky      ┆ D     ┆ … ┆ 9104.0     ┆ 8          ┆ 11571.0   ┆ 78.679457 │\n",
       "│           ┆           ┆ Malik (D)  ┆       ┆   ┆            ┆            ┆           ┆           │\n",
       "│ H8NY12129 ┆ N00041983 ┆ Suraj      ┆ D     ┆ … ┆ 1.757948e6 ┆ 941        ┆ 2.253296e ┆ 78.016736 │\n",
       "│           ┆           ┆ Patel (D)  ┆       ┆   ┆            ┆            ┆ 6         ┆           │\n",
       "│ H8IL08119 ┆ N00042119 ┆ Vandana    ┆ R     ┆ … ┆ 46100.0    ┆ 20         ┆ 62400.0   ┆ 73.878205 │\n",
       "│           ┆           ┆ Jhingan    ┆       ┆   ┆            ┆            ┆           ┆           │\n",
       "│           ┆           ┆ (R)        ┆       ┆   ┆            ┆            ┆           ┆           │\n",
       "│ H8IL08101 ┆ N00042118 ┆ Jitendra   ┆ R     ┆ … ┆ 34905.0    ┆ 42         ┆ 51919.0   ┆ 67.229723 │\n",
       "│           ┆           ┆ Diganvker  ┆       ┆   ┆            ┆            ┆           ┆           │\n",
       "│           ┆           ┆ (R)        ┆       ┆   ┆            ┆            ┆           ┆           │\n",
       "│ H8CT04214 ┆ N00042089 ┆ Harry      ┆ R     ┆ … ┆ 318950.0   ┆ 34         ┆ 490721.0  ┆ 64.996199 │\n",
       "│           ┆           ┆ Arora (R)  ┆       ┆   ┆            ┆            ┆           ┆           │\n",
       "│ H8CA48084 ┆ N00041312 ┆ Omar       ┆ D     ┆ … ┆ 318619.0   ┆ 68         ┆ 528852.0  ┆ 60.24729  │\n",
       "│           ┆           ┆ Siddiqui   ┆       ┆   ┆            ┆            ┆           ┆           │\n",
       "│           ┆           ┆ (D)        ┆       ┆   ┆            ┆            ┆           ┆           │\n",
       "│ H4CA30123 ┆ N00036728 ┆ Raji Rab   ┆ D     ┆ … ┆ 17700.0    ┆ 7          ┆ 29900.0   ┆ 59.197324 │\n",
       "│           ┆           ┆ (D)        ┆       ┆   ┆            ┆            ┆           ┆           │\n",
       "└───────────┴───────────┴────────────┴───────┴───┴────────────┴────────────┴───────────┴───────────┘"
      ]
     },
     "execution_count": 17,
     "metadata": {},
     "output_type": "execute_result"
    }
   ],
   "source": [
    "top_shares = receipts_merged.filter((pl.col(\"pct_share\").is_not_null()) & \n",
    "                        (pl.col(\"pct_share\").is_not_nan())\n",
    "    ).sort(\n",
    "    pl.col(\"pct_share\"), \n",
    "    descending=True\n",
    ")\n",
    "top_shares[:10]"
   ]
  },
  {
   "cell_type": "code",
   "execution_count": 20,
   "metadata": {},
   "outputs": [
    {
     "data": {
      "text/html": [
       "<div><style>\n",
       ".dataframe > thead > tr,\n",
       ".dataframe > tbody > tr {\n",
       "  text-align: right;\n",
       "  white-space: pre-wrap;\n",
       "}\n",
       "</style>\n",
       "<small>shape: (10, 15)</small><table border=\"1\" class=\"dataframe\"><thead><tr><th>id</th><th>recip_id</th><th>name</th><th>party</th><th>seat</th><th>dummy4</th><th>dummy5</th><th>dummy6</th><th>dummy7</th><th>dummy8</th><th>dummy9</th><th>total_amount</th><th>num_donations</th><th>total_amount_right</th><th>pct_share</th></tr><tr><td>str</td><td>str</td><td>str</td><td>str</td><td>str</td><td>str</td><td>str</td><td>str</td><td>str</td><td>str</td><td>str</td><td>f64</td><td>u32</td><td>f64</td><td>f64</td></tr></thead><tbody><tr><td>&quot;H6AZ01181&quot;</td><td>&quot;N00013843&quot;</td><td>&quot;Miguel Olivas (D)&quot;</td><td>&quot;D&quot;</td><td>&quot;AZ01&quot;</td><td>&quot;&nbsp;&nbsp;&nbsp;&nbsp;&quot;</td><td>&quot; &quot;</td><td>&quot; &quot;</td><td>&quot; &quot;</td><td>&quot;DN&quot;</td><td>&quot; &quot;</td><td>1000.0</td><td>1</td><td>1000.0</td><td>100.0</td></tr><tr><td>&quot;H0KS04077&quot;</td><td>&quot;N00030933&quot;</td><td>&quot;Raj Goyle (D)&quot;</td><td>&quot;D&quot;</td><td>&quot;KS04&quot;</td><td>&quot;&nbsp;&nbsp;&nbsp;&nbsp;&quot;</td><td>&quot; &quot;</td><td>&quot; &quot;</td><td>&quot; &quot;</td><td>&quot;DN&quot;</td><td>&quot; &quot;</td><td>750.0</td><td>5</td><td>750.0</td><td>100.0</td></tr><tr><td>&quot;S8MA00268&quot;</td><td>&quot;N00041034&quot;</td><td>&quot;Shiva Ayyadurai (I)&quot;</td><td>&quot;I&quot;</td><td>&quot;MAS1&quot;</td><td>&quot;&nbsp;&nbsp;&nbsp;&nbsp;&quot;</td><td>&quot;Y&quot;</td><td>&quot;Y&quot;</td><td>&quot;C&quot;</td><td>&quot;3L&quot;</td><td>&quot; &quot;</td><td>4.825763e6</td><td>42</td><td>4.955184e6</td><td>97.38817</td></tr><tr><td>&quot;H8TX02158&quot;</td><td>&quot;N00042223&quot;</td><td>&quot;Silky Malik (D)&quot;</td><td>&quot;D&quot;</td><td>&quot;TX02&quot;</td><td>&quot;&nbsp;&nbsp;&nbsp;&nbsp;&quot;</td><td>&quot; &quot;</td><td>&quot;Y&quot;</td><td>&quot;O&quot;</td><td>&quot;DL&quot;</td><td>&quot; &quot;</td><td>9104.0</td><td>8</td><td>11571.0</td><td>78.679457</td></tr><tr><td>&quot;H8NY12129&quot;</td><td>&quot;N00041983&quot;</td><td>&quot;Suraj Patel (D)&quot;</td><td>&quot;D&quot;</td><td>&quot;NY12&quot;</td><td>&quot;&nbsp;&nbsp;&nbsp;&nbsp;&quot;</td><td>&quot; &quot;</td><td>&quot;Y&quot;</td><td>&quot;C&quot;</td><td>&quot;DL&quot;</td><td>&quot; &quot;</td><td>1.757948e6</td><td>941</td><td>2.253296e6</td><td>78.016736</td></tr><tr><td>&quot;H8IL08119&quot;</td><td>&quot;N00042119&quot;</td><td>&quot;Vandana Jhingan (R)&quot;</td><td>&quot;R&quot;</td><td>&quot;IL08&quot;</td><td>&quot;&nbsp;&nbsp;&nbsp;&nbsp;&quot;</td><td>&quot; &quot;</td><td>&quot;Y&quot;</td><td>&quot;C&quot;</td><td>&quot;RN&quot;</td><td>&quot; &quot;</td><td>46100.0</td><td>20</td><td>62400.0</td><td>73.878205</td></tr><tr><td>&quot;H8IL08101&quot;</td><td>&quot;N00042118&quot;</td><td>&quot;Jitendra Diganvker (R)&quot;</td><td>&quot;R&quot;</td><td>&quot;IL08&quot;</td><td>&quot;&nbsp;&nbsp;&nbsp;&nbsp;&quot;</td><td>&quot;Y&quot;</td><td>&quot;Y&quot;</td><td>&quot;C&quot;</td><td>&quot;RL&quot;</td><td>&quot; &quot;</td><td>34905.0</td><td>42</td><td>51919.0</td><td>67.229723</td></tr><tr><td>&quot;H8CT04214&quot;</td><td>&quot;N00042089&quot;</td><td>&quot;Harry Arora (R)&quot;</td><td>&quot;R&quot;</td><td>&quot;CT04&quot;</td><td>&quot;&nbsp;&nbsp;&nbsp;&nbsp;&quot;</td><td>&quot;Y&quot;</td><td>&quot;Y&quot;</td><td>&quot;C&quot;</td><td>&quot;RL&quot;</td><td>&quot; &quot;</td><td>318950.0</td><td>34</td><td>490721.0</td><td>64.996199</td></tr><tr><td>&quot;H8CA48084&quot;</td><td>&quot;N00041312&quot;</td><td>&quot;Omar Siddiqui (D)&quot;</td><td>&quot;D&quot;</td><td>&quot;CA48&quot;</td><td>&quot;&nbsp;&nbsp;&nbsp;&nbsp;&quot;</td><td>&quot; &quot;</td><td>&quot;Y&quot;</td><td>&quot;C&quot;</td><td>&quot;DL&quot;</td><td>&quot; &quot;</td><td>318619.0</td><td>68</td><td>528852.0</td><td>60.24729</td></tr><tr><td>&quot;H4CA30123&quot;</td><td>&quot;N00036728&quot;</td><td>&quot;Raji Rab (D)&quot;</td><td>&quot;D&quot;</td><td>&quot;CA30&quot;</td><td>&quot;&nbsp;&nbsp;&nbsp;&nbsp;&quot;</td><td>&quot; &quot;</td><td>&quot;Y&quot;</td><td>&quot;C&quot;</td><td>&quot;DL&quot;</td><td>&quot; &quot;</td><td>17700.0</td><td>7</td><td>29900.0</td><td>59.197324</td></tr></tbody></table></div>"
      ],
      "text/plain": [
       "shape: (10, 15)\n",
       "┌───────────┬───────────┬────────────┬───────┬───┬────────────┬────────────┬───────────┬───────────┐\n",
       "│ id        ┆ recip_id  ┆ name       ┆ party ┆ … ┆ total_amou ┆ num_donati ┆ total_amo ┆ pct_share │\n",
       "│ ---       ┆ ---       ┆ ---        ┆ ---   ┆   ┆ nt         ┆ ons        ┆ unt_right ┆ ---       │\n",
       "│ str       ┆ str       ┆ str        ┆ str   ┆   ┆ ---        ┆ ---        ┆ ---       ┆ f64       │\n",
       "│           ┆           ┆            ┆       ┆   ┆ f64        ┆ u32        ┆ f64       ┆           │\n",
       "╞═══════════╪═══════════╪════════════╪═══════╪═══╪════════════╪════════════╪═══════════╪═══════════╡\n",
       "│ H6AZ01181 ┆ N00013843 ┆ Miguel     ┆ D     ┆ … ┆ 1000.0     ┆ 1          ┆ 1000.0    ┆ 100.0     │\n",
       "│           ┆           ┆ Olivas (D) ┆       ┆   ┆            ┆            ┆           ┆           │\n",
       "│ H0KS04077 ┆ N00030933 ┆ Raj Goyle  ┆ D     ┆ … ┆ 750.0      ┆ 5          ┆ 750.0     ┆ 100.0     │\n",
       "│           ┆           ┆ (D)        ┆       ┆   ┆            ┆            ┆           ┆           │\n",
       "│ S8MA00268 ┆ N00041034 ┆ Shiva      ┆ I     ┆ … ┆ 4.825763e6 ┆ 42         ┆ 4.955184e ┆ 97.38817  │\n",
       "│           ┆           ┆ Ayyadurai  ┆       ┆   ┆            ┆            ┆ 6         ┆           │\n",
       "│           ┆           ┆ (I)        ┆       ┆   ┆            ┆            ┆           ┆           │\n",
       "│ H8TX02158 ┆ N00042223 ┆ Silky      ┆ D     ┆ … ┆ 9104.0     ┆ 8          ┆ 11571.0   ┆ 78.679457 │\n",
       "│           ┆           ┆ Malik (D)  ┆       ┆   ┆            ┆            ┆           ┆           │\n",
       "│ H8NY12129 ┆ N00041983 ┆ Suraj      ┆ D     ┆ … ┆ 1.757948e6 ┆ 941        ┆ 2.253296e ┆ 78.016736 │\n",
       "│           ┆           ┆ Patel (D)  ┆       ┆   ┆            ┆            ┆ 6         ┆           │\n",
       "│ H8IL08119 ┆ N00042119 ┆ Vandana    ┆ R     ┆ … ┆ 46100.0    ┆ 20         ┆ 62400.0   ┆ 73.878205 │\n",
       "│           ┆           ┆ Jhingan    ┆       ┆   ┆            ┆            ┆           ┆           │\n",
       "│           ┆           ┆ (R)        ┆       ┆   ┆            ┆            ┆           ┆           │\n",
       "│ H8IL08101 ┆ N00042118 ┆ Jitendra   ┆ R     ┆ … ┆ 34905.0    ┆ 42         ┆ 51919.0   ┆ 67.229723 │\n",
       "│           ┆           ┆ Diganvker  ┆       ┆   ┆            ┆            ┆           ┆           │\n",
       "│           ┆           ┆ (R)        ┆       ┆   ┆            ┆            ┆           ┆           │\n",
       "│ H8CT04214 ┆ N00042089 ┆ Harry      ┆ R     ┆ … ┆ 318950.0   ┆ 34         ┆ 490721.0  ┆ 64.996199 │\n",
       "│           ┆           ┆ Arora (R)  ┆       ┆   ┆            ┆            ┆           ┆           │\n",
       "│ H8CA48084 ┆ N00041312 ┆ Omar       ┆ D     ┆ … ┆ 318619.0   ┆ 68         ┆ 528852.0  ┆ 60.24729  │\n",
       "│           ┆           ┆ Siddiqui   ┆       ┆   ┆            ┆            ┆           ┆           │\n",
       "│           ┆           ┆ (D)        ┆       ┆   ┆            ┆            ┆           ┆           │\n",
       "│ H4CA30123 ┆ N00036728 ┆ Raji Rab   ┆ D     ┆ … ┆ 17700.0    ┆ 7          ┆ 29900.0   ┆ 59.197324 │\n",
       "│           ┆           ┆ (D)        ┆       ┆   ┆            ┆            ┆           ┆           │\n",
       "└───────────┴───────────┴────────────┴───────┴───┴────────────┴────────────┴───────────┴───────────┘"
      ]
     },
     "execution_count": 20,
     "metadata": {},
     "output_type": "execute_result"
    }
   ],
   "source": [
    "top_shares[:10]"
   ]
  },
  {
   "cell_type": "code",
   "execution_count": 19,
   "metadata": {},
   "outputs": [
    {
     "data": {
      "text/html": [
       "<div><style>\n",
       ".dataframe > thead > tr,\n",
       ".dataframe > tbody > tr {\n",
       "  text-align: right;\n",
       "  white-space: pre-wrap;\n",
       "}\n",
       "</style>\n",
       "<small>shape: (0, 22)</small><table border=\"1\" class=\"dataframe\"><thead><tr><th>dummy1</th><th>dummy2</th><th>contrib_id</th><th>name</th><th>recip_id</th><th>orgname</th><th>ultorg</th><th>realcode</th><th>amount</th><th>street</th><th>city</th><th>state</th><th>zip</th><th>recipcode</th><th>type</th><th>gender</th><th>occupation</th><th>employer</th><th>firstname</th><th>lastname</th><th>name_new</th><th>ethnic</th></tr><tr><td>i64</td><td>i64</td><td>str</td><td>str</td><td>str</td><td>str</td><td>str</td><td>str</td><td>f64</td><td>str</td><td>str</td><td>str</td><td>i64</td><td>str</td><td>str</td><td>str</td><td>str</td><td>str</td><td>str</td><td>str</td><td>str</td><td>str</td></tr></thead><tbody></tbody></table></div>"
      ],
      "text/plain": [
       "shape: (0, 22)\n",
       "┌────────┬────────┬────────────┬──────┬───┬───────────┬──────────┬──────────┬────────┐\n",
       "│ dummy1 ┆ dummy2 ┆ contrib_id ┆ name ┆ … ┆ firstname ┆ lastname ┆ name_new ┆ ethnic │\n",
       "│ ---    ┆ ---    ┆ ---        ┆ ---  ┆   ┆ ---       ┆ ---      ┆ ---      ┆ ---    │\n",
       "│ i64    ┆ i64    ┆ str        ┆ str  ┆   ┆ str       ┆ str      ┆ str      ┆ str    │\n",
       "╞════════╪════════╪════════════╪══════╪═══╪═══════════╪══════════╪══════════╪════════╡\n",
       "└────────┴────────┴────────────┴──────┴───┴───────────┴──────────┴──────────┴────────┘"
      ]
     },
     "execution_count": 19,
     "metadata": {},
     "output_type": "execute_result"
    }
   ],
   "source": [
    "df.filter(pl.col(\"recip_id\") == \"N00009954\")"
   ]
  },
  {
   "cell_type": "code",
   "execution_count": null,
   "metadata": {},
   "outputs": [],
   "source": []
  }
 ],
 "metadata": {
  "kernelspec": {
   "display_name": "Python 3",
   "language": "python",
   "name": "python3"
  },
  "language_info": {
   "codemirror_mode": {
    "name": "ipython",
    "version": 3
   },
   "file_extension": ".py",
   "mimetype": "text/x-python",
   "name": "python",
   "nbconvert_exporter": "python",
   "pygments_lexer": "ipython3",
   "version": "3.12.7"
  }
 },
 "nbformat": 4,
 "nbformat_minor": 2
}
