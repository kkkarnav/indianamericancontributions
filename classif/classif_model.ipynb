{
 "cells": [
  {
   "cell_type": "code",
   "execution_count": 23,
   "metadata": {},
   "outputs": [],
   "source": [
    "import pandas as pd\n",
    "import polars as pl\n",
    "import numpy as np\n",
    "\n",
    "from sklearn.model_selection import train_test_split, GridSearchCV\n",
    "from sklearn.feature_extraction.text import CountVectorizer\n",
    "from sklearn.feature_selection import mutual_info_classif\n",
    "from sklearn.preprocessing import StandardScaler\n",
    "from imblearn.over_sampling import SMOTE\n",
    "\n",
    "from sklearn.linear_model import LogisticRegression\n",
    "from sklearn.linear_model import LinearRegression\n",
    "from sklearn.tree import DecisionTreeClassifier\n",
    "from sklearn.ensemble import RandomForestClassifier\n",
    "from sklearn.ensemble import GradientBoostingClassifier\n",
    "\n",
    "from sklearn.metrics import accuracy_score, precision_score, recall_score, f1_score, brier_score_loss\n",
    "from sklearn.metrics import mean_absolute_error, root_mean_squared_error, r2_score\n",
    "from sklearn.metrics import confusion_matrix, ConfusionMatrixDisplay\n",
    "from sklearn.metrics import roc_curve, roc_auc_score\n",
    "from sklearn.metrics import precision_recall_curve\n",
    "\n",
    "import matplotlib.pyplot as plt\n",
    "from sklearn.manifold import TSNE\n",
    "from sklearn.decomposition import PCA\n",
    "from mpl_toolkits.mplot3d import Axes3D\n",
    "import seaborn as sns\n",
    "from collections import defaultdict\n",
    "import warnings\n",
    "from tqdm import tqdm\n",
    "import pickle\n",
    "\n",
    "tqdm.pandas()\n",
    "warnings.filterwarnings(\"ignore\")"
   ]
  },
  {
   "cell_type": "code",
   "execution_count": 24,
   "metadata": {},
   "outputs": [],
   "source": [
    "year = 20\n",
    "df_csv = f\"./data/CampaignFin20/indivs{year}.txt\"\n",
    "donors_csv = f\"./data/CampaignFin{year}/donors{year}.csv\"\n",
    "names_csv = f\"./data/USIN_pred_lastname.csv\"\n",
    "pred_csv = f\"./output/donors{year}_pred_lastname.csv\""
   ]
  },
  {
   "cell_type": "code",
   "execution_count": 25,
   "metadata": {},
   "outputs": [
    {
     "data": {
      "text/html": [
       "<div>\n",
       "<style scoped>\n",
       "    .dataframe tbody tr th:only-of-type {\n",
       "        vertical-align: middle;\n",
       "    }\n",
       "\n",
       "    .dataframe tbody tr th {\n",
       "        vertical-align: top;\n",
       "    }\n",
       "\n",
       "    .dataframe thead th {\n",
       "        text-align: right;\n",
       "    }\n",
       "</style>\n",
       "<table border=\"1\" class=\"dataframe\">\n",
       "  <thead>\n",
       "    <tr style=\"text-align: right;\">\n",
       "      <th></th>\n",
       "      <th>contrib_id</th>\n",
       "      <th>name</th>\n",
       "      <th>name_new</th>\n",
       "      <th>orgname</th>\n",
       "      <th>ultorg</th>\n",
       "      <th>gender</th>\n",
       "      <th>occupation</th>\n",
       "      <th>employer</th>\n",
       "      <th>total_donated</th>\n",
       "      <th>donation_count</th>\n",
       "      <th>avg_donation</th>\n",
       "      <th>med_donation</th>\n",
       "      <th>lastname</th>\n",
       "    </tr>\n",
       "  </thead>\n",
       "  <tbody>\n",
       "    <tr>\n",
       "      <th>0</th>\n",
       "      <td></td>\n",
       "      <td>FOR AMERICA, AMY</td>\n",
       "      <td>amy for america</td>\n",
       "      <td>[24T Contribution]</td>\n",
       "      <td>NaN</td>\n",
       "      <td></td>\n",
       "      <td>NOT EMPLOYED</td>\n",
       "      <td>NOT EMPLOYED</td>\n",
       "      <td>1.261253e+09</td>\n",
       "      <td>25821</td>\n",
       "      <td>4.884603e+04</td>\n",
       "      <td>1000.0</td>\n",
       "      <td>for america</td>\n",
       "    </tr>\n",
       "    <tr>\n",
       "      <th>1</th>\n",
       "      <td>U00000037041</td>\n",
       "      <td>BLOOMBERG, MICHAEL</td>\n",
       "      <td>michael bloomberg</td>\n",
       "      <td>Bloomberg LP</td>\n",
       "      <td>NaN</td>\n",
       "      <td>M</td>\n",
       "      <td>MAYOR</td>\n",
       "      <td>CITY OF NEW YORK</td>\n",
       "      <td>1.127731e+09</td>\n",
       "      <td>958</td>\n",
       "      <td>1.177172e+06</td>\n",
       "      <td>682.5</td>\n",
       "      <td>bloomberg</td>\n",
       "    </tr>\n",
       "    <tr>\n",
       "      <th>2</th>\n",
       "      <td>U00000036521</td>\n",
       "      <td>STEYER, THOMAS F</td>\n",
       "      <td>thomas f steyer</td>\n",
       "      <td>Fahr LLC/Tom Steyer</td>\n",
       "      <td>Fahr LLC</td>\n",
       "      <td>M</td>\n",
       "      <td>FOUNDER</td>\n",
       "      <td>NEXTGEN AMERICA</td>\n",
       "      <td>3.794782e+08</td>\n",
       "      <td>756</td>\n",
       "      <td>5.019553e+05</td>\n",
       "      <td>2800.0</td>\n",
       "      <td>steyer</td>\n",
       "    </tr>\n",
       "    <tr>\n",
       "      <th>3</th>\n",
       "      <td>U00000046841</td>\n",
       "      <td>MELLON, TIMOTHY</td>\n",
       "      <td>timothy mellon</td>\n",
       "      <td>Investments</td>\n",
       "      <td>NaN</td>\n",
       "      <td>M</td>\n",
       "      <td>INVESTMENTS</td>\n",
       "      <td>SELF</td>\n",
       "      <td>4.513356e+07</td>\n",
       "      <td>23</td>\n",
       "      <td>1.962328e+06</td>\n",
       "      <td>2800.0</td>\n",
       "      <td>mellon</td>\n",
       "    </tr>\n",
       "    <tr>\n",
       "      <th>4</th>\n",
       "      <td>U0000000310A</td>\n",
       "      <td>ADELSON, MIRIAM O DR</td>\n",
       "      <td>miriam o dr adelson</td>\n",
       "      <td>Adelson Clinic for Drug Abuse Treatment &amp; Rese...</td>\n",
       "      <td>NaN</td>\n",
       "      <td>F</td>\n",
       "      <td>PHYSICIAN</td>\n",
       "      <td>ADELSON CLINIC</td>\n",
       "      <td>4.499955e+07</td>\n",
       "      <td>124</td>\n",
       "      <td>3.628996e+05</td>\n",
       "      <td>2800.0</td>\n",
       "      <td>adelson</td>\n",
       "    </tr>\n",
       "    <tr>\n",
       "      <th>5</th>\n",
       "      <td>U00000003101</td>\n",
       "      <td>ADELSON, SHELDON G MR</td>\n",
       "      <td>sheldon g mr adelson</td>\n",
       "      <td>Las Vegas Sands</td>\n",
       "      <td>NaN</td>\n",
       "      <td>M</td>\n",
       "      <td>CHAIRMAN OF THE BOARD</td>\n",
       "      <td>THE VENETIAN</td>\n",
       "      <td>4.484795e+07</td>\n",
       "      <td>119</td>\n",
       "      <td>3.768735e+05</td>\n",
       "      <td>2800.0</td>\n",
       "      <td>adelson</td>\n",
       "    </tr>\n",
       "    <tr>\n",
       "      <th>6</th>\n",
       "      <td>U00000036901</td>\n",
       "      <td>UIHLEIN, RICHARD</td>\n",
       "      <td>richard uihlein</td>\n",
       "      <td>Uline Inc</td>\n",
       "      <td>NaN</td>\n",
       "      <td>M</td>\n",
       "      <td>NaN</td>\n",
       "      <td>NaN</td>\n",
       "      <td>3.536433e+07</td>\n",
       "      <td>319</td>\n",
       "      <td>1.108600e+05</td>\n",
       "      <td>2800.0</td>\n",
       "      <td>uihlein</td>\n",
       "    </tr>\n",
       "    <tr>\n",
       "      <th>7</th>\n",
       "      <td>U00000036551</td>\n",
       "      <td>GRIFFIN, KENNETH</td>\n",
       "      <td>kenneth griffin</td>\n",
       "      <td>Rodimer for Congress</td>\n",
       "      <td>NaN</td>\n",
       "      <td>M</td>\n",
       "      <td>FOUNDER  CEO</td>\n",
       "      <td>CITADEL LLC</td>\n",
       "      <td>3.366763e+07</td>\n",
       "      <td>188</td>\n",
       "      <td>1.790832e+05</td>\n",
       "      <td>2800.0</td>\n",
       "      <td>griffin</td>\n",
       "    </tr>\n",
       "    <tr>\n",
       "      <th>8</th>\n",
       "      <td>U00000003611</td>\n",
       "      <td>SCHWARZMAN, STEPHEN A</td>\n",
       "      <td>stephen a schwarzman</td>\n",
       "      <td>Blackstone Group</td>\n",
       "      <td>NaN</td>\n",
       "      <td>M</td>\n",
       "      <td>CHAIRMAN, CEO &amp; CO-FOUNDER</td>\n",
       "      <td>BLACKSTONE</td>\n",
       "      <td>3.345400e+07</td>\n",
       "      <td>226</td>\n",
       "      <td>1.480265e+05</td>\n",
       "      <td>2800.0</td>\n",
       "      <td>schwarzman</td>\n",
       "    </tr>\n",
       "    <tr>\n",
       "      <th>9</th>\n",
       "      <td>U00000046781</td>\n",
       "      <td>JURVETSON, KARLA</td>\n",
       "      <td>karla jurvetson</td>\n",
       "      <td>[24T Contribution]</td>\n",
       "      <td>NaN</td>\n",
       "      <td>F</td>\n",
       "      <td>PHYSICIAN</td>\n",
       "      <td>SELF</td>\n",
       "      <td>3.308810e+07</td>\n",
       "      <td>914</td>\n",
       "      <td>3.620142e+04</td>\n",
       "      <td>2800.0</td>\n",
       "      <td>jurvetson</td>\n",
       "    </tr>\n",
       "  </tbody>\n",
       "</table>\n",
       "</div>"
      ],
      "text/plain": [
       "     contrib_id                   name              name_new  \\\n",
       "0                     FOR AMERICA, AMY       amy for america   \n",
       "1  U00000037041     BLOOMBERG, MICHAEL     michael bloomberg   \n",
       "2  U00000036521       STEYER, THOMAS F       thomas f steyer   \n",
       "3  U00000046841        MELLON, TIMOTHY        timothy mellon   \n",
       "4  U0000000310A   ADELSON, MIRIAM O DR   miriam o dr adelson   \n",
       "5  U00000003101  ADELSON, SHELDON G MR  sheldon g mr adelson   \n",
       "6  U00000036901       UIHLEIN, RICHARD       richard uihlein   \n",
       "7  U00000036551       GRIFFIN, KENNETH       kenneth griffin   \n",
       "8  U00000003611  SCHWARZMAN, STEPHEN A  stephen a schwarzman   \n",
       "9  U00000046781       JURVETSON, KARLA       karla jurvetson   \n",
       "\n",
       "                                             orgname    ultorg gender  \\\n",
       "0                                 [24T Contribution]       NaN          \n",
       "1                                       Bloomberg LP       NaN      M   \n",
       "2                                Fahr LLC/Tom Steyer  Fahr LLC      M   \n",
       "3                                        Investments       NaN      M   \n",
       "4  Adelson Clinic for Drug Abuse Treatment & Rese...       NaN      F   \n",
       "5                                    Las Vegas Sands       NaN      M   \n",
       "6                                          Uline Inc       NaN      M   \n",
       "7                               Rodimer for Congress       NaN      M   \n",
       "8                                   Blackstone Group       NaN      M   \n",
       "9                                 [24T Contribution]       NaN      F   \n",
       "\n",
       "                   occupation          employer  total_donated  \\\n",
       "0                NOT EMPLOYED      NOT EMPLOYED   1.261253e+09   \n",
       "1                       MAYOR  CITY OF NEW YORK   1.127731e+09   \n",
       "2                     FOUNDER   NEXTGEN AMERICA   3.794782e+08   \n",
       "3                 INVESTMENTS              SELF   4.513356e+07   \n",
       "4                   PHYSICIAN    ADELSON CLINIC   4.499955e+07   \n",
       "5       CHAIRMAN OF THE BOARD      THE VENETIAN   4.484795e+07   \n",
       "6                         NaN               NaN   3.536433e+07   \n",
       "7                FOUNDER  CEO       CITADEL LLC   3.366763e+07   \n",
       "8  CHAIRMAN, CEO & CO-FOUNDER        BLACKSTONE   3.345400e+07   \n",
       "9                   PHYSICIAN              SELF   3.308810e+07   \n",
       "\n",
       "   donation_count  avg_donation  med_donation     lastname  \n",
       "0           25821  4.884603e+04        1000.0  for america  \n",
       "1             958  1.177172e+06         682.5    bloomberg  \n",
       "2             756  5.019553e+05        2800.0       steyer  \n",
       "3              23  1.962328e+06        2800.0       mellon  \n",
       "4             124  3.628996e+05        2800.0      adelson  \n",
       "5             119  3.768735e+05        2800.0      adelson  \n",
       "6             319  1.108600e+05        2800.0      uihlein  \n",
       "7             188  1.790832e+05        2800.0      griffin  \n",
       "8             226  1.480265e+05        2800.0   schwarzman  \n",
       "9             914  3.620142e+04        2800.0    jurvetson  "
      ]
     },
     "execution_count": 25,
     "metadata": {},
     "output_type": "execute_result"
    }
   ],
   "source": [
    "donors = pd.read_csv(donors_csv)\n",
    "donors[\"lastname\"] = donors[\"name\"].apply(lambda x: str(x).split(\",\")[0].lower())\n",
    "donors.head(10)"
   ]
  },
  {
   "cell_type": "code",
   "execution_count": 26,
   "metadata": {},
   "outputs": [
    {
     "data": {
      "text/html": [
       "<div>\n",
       "<style scoped>\n",
       "    .dataframe tbody tr th:only-of-type {\n",
       "        vertical-align: middle;\n",
       "    }\n",
       "\n",
       "    .dataframe tbody tr th {\n",
       "        vertical-align: top;\n",
       "    }\n",
       "\n",
       "    .dataframe thead th {\n",
       "        text-align: right;\n",
       "    }\n",
       "</style>\n",
       "<table border=\"1\" class=\"dataframe\">\n",
       "  <thead>\n",
       "    <tr style=\"text-align: right;\">\n",
       "      <th></th>\n",
       "      <th>name</th>\n",
       "      <th>ethnic</th>\n",
       "      <th>lastname</th>\n",
       "    </tr>\n",
       "  </thead>\n",
       "  <tbody>\n",
       "    <tr>\n",
       "      <th>0</th>\n",
       "      <td>billy morrison</td>\n",
       "      <td>not</td>\n",
       "      <td>morrison</td>\n",
       "    </tr>\n",
       "    <tr>\n",
       "      <th>1</th>\n",
       "      <td>ashish agravat</td>\n",
       "      <td>ind</td>\n",
       "      <td>agravat</td>\n",
       "    </tr>\n",
       "    <tr>\n",
       "      <th>2</th>\n",
       "      <td>chuck larson</td>\n",
       "      <td>not</td>\n",
       "      <td>larson</td>\n",
       "    </tr>\n",
       "    <tr>\n",
       "      <th>3</th>\n",
       "      <td>soheb shaikh</td>\n",
       "      <td>ind</td>\n",
       "      <td>shaikh</td>\n",
       "    </tr>\n",
       "    <tr>\n",
       "      <th>4</th>\n",
       "      <td>nick longo</td>\n",
       "      <td>not</td>\n",
       "      <td>longo</td>\n",
       "    </tr>\n",
       "    <tr>\n",
       "      <th>5</th>\n",
       "      <td>kundan rao</td>\n",
       "      <td>ind</td>\n",
       "      <td>rao</td>\n",
       "    </tr>\n",
       "    <tr>\n",
       "      <th>6</th>\n",
       "      <td>सुजान सोलंकी</td>\n",
       "      <td>ind</td>\n",
       "      <td>सोलंकी</td>\n",
       "    </tr>\n",
       "    <tr>\n",
       "      <th>7</th>\n",
       "      <td>melissa rueth</td>\n",
       "      <td>not</td>\n",
       "      <td>rueth</td>\n",
       "    </tr>\n",
       "    <tr>\n",
       "      <th>8</th>\n",
       "      <td>george falero</td>\n",
       "      <td>not</td>\n",
       "      <td>falero</td>\n",
       "    </tr>\n",
       "    <tr>\n",
       "      <th>9</th>\n",
       "      <td>priya kannan</td>\n",
       "      <td>not</td>\n",
       "      <td>kannan</td>\n",
       "    </tr>\n",
       "  </tbody>\n",
       "</table>\n",
       "</div>"
      ],
      "text/plain": [
       "             name ethnic  lastname\n",
       "0  billy morrison    not  morrison\n",
       "1  ashish agravat    ind   agravat\n",
       "2    chuck larson    not    larson\n",
       "3    soheb shaikh    ind    shaikh\n",
       "4      nick longo    not     longo\n",
       "5      kundan rao    ind       rao\n",
       "6    सुजान सोलंकी    ind    सोलंकी\n",
       "7   melissa rueth    not     rueth\n",
       "8   george falero    not    falero\n",
       "9    priya kannan    not    kannan"
      ]
     },
     "execution_count": 26,
     "metadata": {},
     "output_type": "execute_result"
    }
   ],
   "source": [
    "# https://github.com/philipperemy/name-dataset\n",
    "df_combined = pd.read_csv(names_csv)\n",
    "df_combined.head(10)"
   ]
  },
  {
   "cell_type": "code",
   "execution_count": 41,
   "metadata": {},
   "outputs": [],
   "source": [
    "def calculate_stats(results_test, results_pred, name, display_labels):\n",
    "    cm = confusion_matrix(results_test, results_pred)\n",
    "    disp = ConfusionMatrixDisplay(confusion_matrix=cm, display_labels=display_labels)\n",
    "    disp.plot(cmap=plt.cm.Blues)\n",
    "    plt.title(f'Confusion Matrix ({name})')\n",
    "    plt.show()\n",
    "\n",
    "    print(f\"\\n{name}\")\n",
    "    if len(display_labels) > 2:\n",
    "        accuracy = accuracy_score(results_test, results_pred)\n",
    "        precision = precision_score(results_test, results_pred, average='weighted')\n",
    "        recall = recall_score(results_test, results_pred, average='weighted')\n",
    "        f1 = f1_score(results_test, results_pred, average='weighted')\n",
    "    else:\n",
    "        results_pred = np.where(results_pred == \"ind\", 1, 0)\n",
    "        results_test = np.where(results_test == \"ind\", 1, 0)\n",
    "        accuracy = accuracy_score(results_test, results_pred)\n",
    "        precision = precision_score(results_test, results_pred, labels=display_labels)\n",
    "        recall = recall_score(results_test, results_pred, labels=display_labels)\n",
    "        f1 = f1_score(results_test, results_pred, labels=display_labels)\n",
    "    print(\"Accuracy:\", accuracy)\n",
    "    print(\"Precision:\", precision)\n",
    "    print(\"Recall:\", recall)\n",
    "    print(\"F1:\", f1)"
   ]
  },
  {
   "cell_type": "code",
   "execution_count": 33,
   "metadata": {},
   "outputs": [],
   "source": [
    "def logistic_regression(display_labels):\n",
    "    logistic_r = LogisticRegression()\n",
    "    logistic_r.fit(X_train, y_train)\n",
    "    y_pred = logistic_r.predict(X_test)\n",
    "\n",
    "    calculate_stats(y_test, y_pred, \"Logistic Regression\", display_labels)\n",
    "\n",
    "    return logistic_r"
   ]
  },
  {
   "cell_type": "code",
   "execution_count": 29,
   "metadata": {},
   "outputs": [],
   "source": [
    "df = df_combined.dropna()\n",
    "y = df['ethnic']\n",
    "vectorizer = CountVectorizer()\n",
    "X = vectorizer.fit_transform(df['name'])"
   ]
  },
  {
   "cell_type": "code",
   "execution_count": 30,
   "metadata": {},
   "outputs": [],
   "source": [
    "X_train, X_test, y_train, y_test = train_test_split(X, y, test_size=0.3, random_state=20)"
   ]
  },
  {
   "cell_type": "code",
   "execution_count": 42,
   "metadata": {},
   "outputs": [
    {
     "data": {
      "image/png": "[encoded data removed]",
      "text/plain": [
       "<Figure size 640x480 with 2 Axes>"
      ]
     },
     "metadata": {},
     "output_type": "display_data"
    },
    {
     "name": "stdout",
     "output_type": "stream",
     "text": [
      "\n",
      "Logistic Regression\n",
      "Accuracy: 0.9554515116065933\n",
      "Precision: 0.9507700266070347\n",
      "Recall: 0.9005778759214704\n",
      "F1: 0.9249935680723625\n"
     ]
    }
   ],
   "source": [
    "prediction = logistic_regression(display_labels=[\"ind\", \"not\"])"
   ]
  },
  {
   "cell_type": "code",
   "execution_count": 43,
   "metadata": {},
   "outputs": [
    {
     "data": {
      "text/plain": [
       "(0.696171900501986, 0.4172862192022876)"
      ]
     },
     "execution_count": 43,
     "metadata": {},
     "output_type": "execute_result"
    }
   ],
   "source": [
    "y_probs = prediction.predict_proba(X_test)[:, 1]\n",
    "y_probs.mean(), y_probs.std()"
   ]
  },
  {
   "cell_type": "code",
   "execution_count": 46,
   "metadata": {},
   "outputs": [
    {
     "data": {
      "image/png": "[encoded data removed]",
      "text/plain": [
       "<Figure size 640x480 with 2 Axes>"
      ]
     },
     "metadata": {},
     "output_type": "display_data"
    },
    {
     "name": "stdout",
     "output_type": "stream",
     "text": [
      "\n",
      "Logistic Regression (adjusted)\n",
      "Accuracy: 0.9250411080457166\n",
      "Precision: 0.809665741403123\n",
      "Recall: 0.9860419893872977\n",
      "F1: 0.889191937755326\n"
     ]
    }
   ],
   "source": [
    "y_pred_adjusted = (y_probs <= 0.85).astype(int)\n",
    "calculate_stats(y_test, np.where(y_pred_adjusted == 1, \"ind\", \"not\"), \"Logistic Regression (adjusted)\", display_labels=[\"ind\", \"not\"])"
   ]
  },
  {
   "cell_type": "code",
   "execution_count": 47,
   "metadata": {},
   "outputs": [
    {
     "data": {
      "text/plain": [
       "array(['not', 'not', 'not', 'not', 'not', 'not', 'not', 'not', 'not',\n",
       "       'not'], dtype=object)"
      ]
     },
     "execution_count": 47,
     "metadata": {},
     "output_type": "execute_result"
    }
   ],
   "source": [
    "X_topredict = vectorizer.transform(donors['name_new'])\n",
    "donors_pred = prediction.predict(X_topredict)\n",
    "donors_pred[:10]"
   ]
  },
  {
   "cell_type": "code",
   "execution_count": 48,
   "metadata": {},
   "outputs": [
    {
     "data": {
      "text/plain": [
       "(0.9642575281049843, 0.11487793789645151)"
      ]
     },
     "execution_count": 48,
     "metadata": {},
     "output_type": "execute_result"
    }
   ],
   "source": [
    "donors_probs = prediction.predict_proba(X_topredict)[:, 1]\n",
    "donors_probs.mean(), donors_probs.std()"
   ]
  },
  {
   "cell_type": "code",
   "execution_count": 52,
   "metadata": {},
   "outputs": [],
   "source": [
    "donors[\"ethnic_pred\"] = donors_pred\n",
    "donors[\"ethnic_prob\"] = donors_probs\n",
    "donors.to_csv(f\"./output/donors{year}_pred_logit.csv\", index=False)"
   ]
  },
  {
   "cell_type": "code",
   "execution_count": null,
   "metadata": {},
   "outputs": [],
   "source": []
  }
 ],
 "metadata": {
  "kernelspec": {
   "display_name": "Python 3",
   "language": "python",
   "name": "python3"
  },
  "language_info": {
   "codemirror_mode": {
    "name": "ipython",
    "version": 3
   },
   "file_extension": ".py",
   "mimetype": "text/x-python",
   "name": "python",
   "nbconvert_exporter": "python",
   "pygments_lexer": "ipython3",
   "version": "3.12.7"
  }
 },
 "nbformat": 4,
 "nbformat_minor": 2
}
