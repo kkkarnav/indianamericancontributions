{
 "cells": [
  {
   "cell_type": "code",
   "execution_count": 1,
   "metadata": {},
   "outputs": [],
   "source": [
    "import pandas as pd\n",
    "import polars as pl\n",
    "import numpy as np\n",
    "from sklearn.linear_model import LogisticRegression\n",
    "from sklearn.model_selection import train_test_split\n",
    "from sklearn.metrics import confusion_matrix, ConfusionMatrixDisplay, accuracy_score, precision_score, recall_score, f1_score\n",
    "from sklearn.metrics import precision_recall_curve\n",
    "import matplotlib.pyplot as plt\n",
    "from sklearn.manifold import TSNE\n",
    "from sklearn.decomposition import PCA\n",
    "from mpl_toolkits.mplot3d import Axes3D\n",
    "import seaborn as sns\n",
    "from collections import defaultdict\n",
    "from tqdm import tqdm\n",
    "import pickle\n",
    "from ethnicseer import EthnicClassifier\n",
    "\n",
    "tqdm.pandas(desc=\"Processing\")"
   ]
  },
  {
   "cell_type": "code",
   "execution_count": 2,
   "metadata": {},
   "outputs": [],
   "source": [
    "indivs20 = \"./data/CampaignFin20/indivs20.txt\"\n",
    "indivs22 = \"./data/CampaignFin22/indivs22.txt\"\n",
    "names = \"./data/USIN.csv\"\n",
    "model_path = \"./models/logit_classifier.pkl\""
   ]
  },
  {
   "cell_type": "code",
   "execution_count": 3,
   "metadata": {},
   "outputs": [],
   "source": [
    "def calculate_stats(results_test, results_pred, name, display_labels):\n",
    "    cm = confusion_matrix(results_test, results_pred)\n",
    "    disp = ConfusionMatrixDisplay(confusion_matrix=cm, display_labels=display_labels)\n",
    "    disp.plot(cmap=plt.cm.Blues)\n",
    "    plt.title(f'Confusion Matrix ({name})')\n",
    "    plt.show()\n",
    "\n",
    "    print(f\"\\n{name}\")\n",
    "    if len(display_labels) > 2:\n",
    "        accuracy = accuracy_score(results_test, results_pred)\n",
    "        precision = precision_score(results_test, results_pred, average='weighted')\n",
    "        recall = recall_score(results_test, results_pred, average='weighted')\n",
    "        f1 = f1_score(results_test, results_pred, average='weighted')\n",
    "    else:\n",
    "        accuracy = accuracy_score(results_test, results_pred)\n",
    "        precision = precision_score(results_test, results_pred, pos_label='ind')\n",
    "        recall = recall_score(results_test, results_pred, pos_label='ind')\n",
    "        f1 = f1_score(results_test, results_pred, pos_label='ind')\n",
    "    print(\"Accuracy:\", accuracy)\n",
    "    print(\"Precision:\", precision)\n",
    "    print(\"Recall:\", recall)\n",
    "    print(\"F1:\", f1)\n"
   ]
  },
  {
   "cell_type": "code",
   "execution_count": 4,
   "metadata": {},
   "outputs": [],
   "source": [
    "def visualize_embeddings(X, y, names=None, n_samples=1000, method='tsne'):\n",
    "    \n",
    "    if len(X) > n_samples:\n",
    "        idx = np.random.choice(len(X), n_samples, replace=False)\n",
    "        X_sample = X[idx]\n",
    "        y_sample = y[idx]\n",
    "        if names is not None:\n",
    "            names_sample = [names[i] for i in idx]\n",
    "        else:\n",
    "            names_sample = None\n",
    "    else:\n",
    "        X_sample = X\n",
    "        y_sample = y\n",
    "    \n",
    "    if method == 'tsne':\n",
    "        # Use t-SNE for dimensionality reduction\n",
    "        reducer = TSNE(n_components=3, random_state=42)\n",
    "    else:\n",
    "        # Use PCA as fallback\n",
    "        reducer = PCA(n_components=3)\n",
    "    \n",
    "    embeddings = reducer.fit_transform(X_sample)\n",
    "    \n",
    "    fig = plt.figure(figsize=(12, 8))\n",
    "    ax = fig.add_subplot(111, projection='3d')\n",
    "    \n",
    "    unique_classes = np.unique(y_sample)\n",
    "    colors = sns.color_palette(\"husl\", len(unique_classes))\n",
    "    \n",
    "    for i, cls in enumerate(unique_classes):\n",
    "        mask = (y_sample == cls)\n",
    "        ax.scatter(embeddings[mask, 0], embeddings[mask, 1], embeddings[mask, 2],\n",
    "                   color=colors[i], label=cls, alpha=0.6)\n",
    "    \n",
    "    ax.set_title('3D Visualization of Name Embeddings')\n",
    "    ax.legend()\n",
    "    plt.show()\n",
    "    \n",
    "    \n",
    "    plt.figure(figsize=(10, 8))\n",
    "    for i, cls in enumerate(unique_classes):\n",
    "        mask = (y_sample == cls)\n",
    "        plt.scatter(embeddings[mask, 0], embeddings[mask, 1],\n",
    "                    color=colors[i], label=cls, alpha=0.6)\n",
    "    \n",
    "    plt.title('2D Visualization of Name Embeddings')\n",
    "    plt.legend()\n",
    "    plt.show()\n",
    "    \n",
    "    \n",
    "    if names_sample is not None:\n",
    "        plt.figure(figsize=(12, 10))\n",
    "        ax = plt.gca()\n",
    "        \n",
    "        # First plot the points\n",
    "        for i, cls in enumerate(unique_classes):\n",
    "            mask = (y_sample == cls)\n",
    "            ax.scatter(embeddings[mask, 0], embeddings[mask, 1],\n",
    "                        color=colors[i], label=cls, alpha=0.6)\n",
    "        \n",
    "        # Then add text labels\n",
    "        for i, (x, y) in enumerate(zip(embeddings[:, 0], embeddings[:, 1])):\n",
    "            ax.text(x, y, names_sample[i], fontsize=8, alpha=0.7,\n",
    "                    bbox=dict(facecolor='white', alpha=0.5, edgecolor='none', pad=0.5))\n",
    "        \n",
    "        plt.title('2D Visualization with Name Labels')\n",
    "        plt.legend()\n",
    "        plt.show()"
   ]
  },
  {
   "cell_type": "code",
   "execution_count": 5,
   "metadata": {},
   "outputs": [],
   "source": [
    "def preprocess_name(name):\n",
    "    parts = name.strip().split()\n",
    "    first_name = parts[0].lower() if len(parts) > 0 else \"\"\n",
    "    last_name = parts[-1].lower() if len(parts) > 1 else \"\"\n",
    "    \n",
    "    f4_first = first_name[:4] if len(first_name) >= 4 else first_name\n",
    "    l4_first = first_name[-4:] if len(first_name) >= 4 else first_name\n",
    "    f4_last = last_name[:4] if len(last_name) >= 4 else last_name\n",
    "    l4_last = last_name[-4:] if len(last_name) >= 4 else last_name\n",
    "    \n",
    "    n_sub_names = len(parts)\n",
    "    has_dash = any('-' in part for part in parts)\n",
    "    \n",
    "    return {\n",
    "        'first_name': first_name,\n",
    "        'last_name': last_name,\n",
    "        'f4_first': f4_first,\n",
    "        'l4_first': l4_first,\n",
    "        'f4_last': f4_last,\n",
    "        'l4_last': l4_last,\n",
    "        'n_sub_names': min(n_sub_names, 4),\n",
    "        'has_dash': int(has_dash)\n",
    "    }\n"
   ]
  },
  {
   "cell_type": "code",
   "execution_count": 6,
   "metadata": {},
   "outputs": [],
   "source": [
    "def build_name_stats(df, name_col='name', ethnicity_col='ethnic'):\n",
    "    first_name_stats = defaultdict(lambda: defaultdict(int))\n",
    "    last_name_stats = defaultdict(lambda: defaultdict(int))\n",
    "    f4_first_stats = defaultdict(lambda: defaultdict(int))\n",
    "    l4_first_stats = defaultdict(lambda: defaultdict(int))\n",
    "    f4_last_stats = defaultdict(lambda: defaultdict(int))\n",
    "    l4_last_stats = defaultdict(lambda: defaultdict(int))\n",
    "    \n",
    "    for _, row in df.iterrows():\n",
    "        name_info = preprocess_name(row[name_col])\n",
    "        ethnicity = row[ethnicity_col]\n",
    "        \n",
    "        first_name_stats[name_info['first_name']][ethnicity] += 1\n",
    "        last_name_stats[name_info['last_name']][ethnicity] += 1\n",
    "        f4_first_stats[name_info['f4_first']][ethnicity] += 1\n",
    "        l4_first_stats[name_info['l4_first']][ethnicity] += 1\n",
    "        f4_last_stats[name_info['f4_last']][ethnicity] += 1\n",
    "        l4_last_stats[name_info['l4_last']][ethnicity] += 1\n",
    "    \n",
    "    return {\n",
    "        'first_name_stats': first_name_stats,\n",
    "        'last_name_stats': last_name_stats,\n",
    "        'f4_first_stats': f4_first_stats,\n",
    "        'l4_first_stats': l4_first_stats,\n",
    "        'f4_last_stats': f4_last_stats,\n",
    "        'l4_last_stats': l4_last_stats\n",
    "    }\n"
   ]
  },
  {
   "cell_type": "code",
   "execution_count": 7,
   "metadata": {},
   "outputs": [],
   "source": [
    "def create_features(name, stats, cats=['ind', 'not']):\n",
    "    name_info = preprocess_name(name)\n",
    "    features = {}\n",
    "    \n",
    "    for eth in cats:\n",
    "        fn_counts = stats['first_name_stats'][name_info['first_name']]\n",
    "        total_fn = sum(fn_counts.values())\n",
    "        features[f'probability_{eth}_first_name'] = fn_counts.get(eth, 0) / (total_fn + 1)\n",
    "        \n",
    "        ln_counts = stats['last_name_stats'][name_info['last_name']]\n",
    "        total_ln = sum(ln_counts.values())\n",
    "        features[f'probability_{eth}_last_name'] = ln_counts.get(eth, 0) / (total_ln + 1)\n",
    "        \n",
    "        f4f_counts = stats['f4_first_stats'][name_info['f4_first']]\n",
    "        total_f4f = sum(f4f_counts.values())\n",
    "        features[f'probability_{eth}_first_name_f4'] = f4f_counts.get(eth, 0) / (total_f4f + 1)\n",
    "        \n",
    "        l4f_counts = stats['l4_first_stats'][name_info['l4_first']]\n",
    "        total_l4f = sum(l4f_counts.values())\n",
    "        features[f'probability_{eth}_first_name_l4'] = l4f_counts.get(eth, 0) / (total_l4f + 1)\n",
    "        \n",
    "        f4l_counts = stats['f4_last_stats'][name_info['f4_last']]\n",
    "        total_f4l = sum(f4l_counts.values())\n",
    "        features[f'probability_{eth}_last_name_f4'] = f4l_counts.get(eth, 0) / (total_f4l + 1)\n",
    "        \n",
    "        l4l_counts = stats['l4_last_stats'][name_info['l4_last']]\n",
    "        total_l4l = sum(l4l_counts.values())\n",
    "        features[f'probability_{eth}_last_name_l4'] = l4l_counts.get(eth, 0) / (total_l4l + 1)\n",
    "        \n",
    "        features[f'best_evidence_{eth}'] = max(\n",
    "            features[f'probability_{eth}_first_name'],\n",
    "            features[f'probability_{eth}_last_name']\n",
    "        )\n",
    "    \n",
    "    features['dash_indicator'] = name_info['has_dash']\n",
    "    features['n_sub_names'] = name_info['n_sub_names']\n",
    "    \n",
    "    return features\n"
   ]
  },
  {
   "cell_type": "code",
   "execution_count": 8,
   "metadata": {},
   "outputs": [],
   "source": [
    "def is_indistinguishable(name, stats, threshold=0.15):\n",
    "    \n",
    "    name_info = preprocess_name(name)\n",
    "    features = create_features(name, stats)\n",
    "    \n",
    "    cats = sorted(stats['first_name_stats'][name_info['first_name']].keys())\n",
    "    psi = {cat: features[f'probability_{cat}_first_name'] for cat in cats}\n",
    "    phi = {cat: features[f'probability_{cat}_last_name'] for cat in cats}\n",
    "    \n",
    "    indistinguishable_pairs = []\n",
    "    \n",
    "    for i, r1 in enumerate(cats):\n",
    "        for r2 in cats[i+1:]:\n",
    "            \n",
    "            condition1 = (abs(psi[r1] - psi[r2]) <= threshold and \n",
    "                         abs(phi[r1] - phi[r2]) <= threshold)\n",
    "            \n",
    "            max_psi = max(psi.values())\n",
    "            max_phi = max(phi.values())\n",
    "            condition2 = (max_psi - min(psi[r1], psi[r2]) <= threshold and \n",
    "                         max_phi - min(phi[r1], phi[r2]) <= threshold)\n",
    "            \n",
    "            if condition1 and condition2:\n",
    "                indistinguishable_pairs.append(f\"{r1}-{r2}\")\n",
    "    \n",
    "    return indistinguishable_pairs if indistinguishable_pairs else None\n"
   ]
  },
  {
   "cell_type": "code",
   "execution_count": 9,
   "metadata": {},
   "outputs": [],
   "source": [
    "def handle_indistinguishables(df, stats, name_col='name'):\n",
    "    \n",
    "    df['indistinguishable'] = None\n",
    "    \n",
    "    for idx, row in tqdm(df.iterrows(), total=len(df)):\n",
    "        name = row[name_col]\n",
    "        indistinguishable = is_indistinguishable(name, stats)\n",
    "        \n",
    "        if indistinguishable:\n",
    "            df.at[idx, 'indistinguishable'] = ','.join(indistinguishable)\n",
    "    \n",
    "    return df\n"
   ]
  },
  {
   "cell_type": "code",
   "execution_count": 10,
   "metadata": {},
   "outputs": [],
   "source": [
    "def process_data(df, name_col='name', ethnicity_col='ethnic', train_size=100000):\n",
    "    \n",
    "    stats = build_name_stats(df, name_col, ethnicity_col)\n",
    "    \n",
    "    class_counts = df[ethnicity_col].value_counts()\n",
    "    class_weights = {class_counts.index[i]: sum(class_counts)/count for i, count in enumerate(class_counts)}\n",
    "    \n",
    "    X, y = [], []\n",
    "    for _, row in tqdm(df.iterrows()):\n",
    "        features = create_features(row[name_col], stats)\n",
    "        X.append(list(features.values()))\n",
    "        y.append(row[ethnicity_col])\n",
    "    \n",
    "    X, y = np.array(X), np.array(y)\n",
    "    np.random.seed(42)\n",
    "    indices = np.random.permutation(len(X))\n",
    "    \n",
    "    train_indices = indices[:train_size]\n",
    "    test_indices = indices[train_size:]\n",
    "    X_train, X_test = X[train_indices], X[test_indices]\n",
    "    y_train, y_test = y[train_indices], y[test_indices]\n",
    "    \n",
    "    visualize_embeddings(X, y, list(df[name_col]))\n",
    "    \n",
    "    return X_train, X_test, y_train, y_test, class_weights\n",
    "    "
   ]
  },
  {
   "cell_type": "code",
   "execution_count": 11,
   "metadata": {},
   "outputs": [],
   "source": [
    "def prepare_train_test_data(df_names, df, name_col = \"name\", ethnicity_col = \"ethnic\", train_size = 0,\n",
    "):\n",
    "    \n",
    "    class_counts = df_names[ethnicity_col].value_counts()\n",
    "    class_weights = {class_counts.index[i]: sum(class_counts)/count for i, count in enumerate(class_counts)}\n",
    "    \n",
    "    stats = build_name_stats(df_names, name_col, ethnicity_col)\n",
    "    \n",
    "    X = []\n",
    "    for row in tqdm(df.iter_rows(named=True), total=len(df)):\n",
    "        features = create_features(row[\"name_new\"], stats)\n",
    "        X.append(list(features.values()))\n",
    "    \n",
    "    X = np.array(X)\n",
    "    np.random.seed(42)\n",
    "    indices = np.random.permutation(len(X))\n",
    "    \n",
    "    split_idx = int(train_size * len(X))\n",
    "    train_indices = indices[:split_idx]\n",
    "    test_indices = indices[split_idx:]\n",
    "    \n",
    "    X_train, X_test = X[train_indices], X[test_indices]\n",
    "    \n",
    "    return X_train, X_test, class_weights"
   ]
  },
  {
   "cell_type": "code",
   "execution_count": 12,
   "metadata": {},
   "outputs": [],
   "source": [
    "def name_classifier(df, X_train, X_test, y_train, y_test, class_weights, name_col='name', ethnicity_col='ethnic'):\n",
    "    \n",
    "    model = LogisticRegression(\n",
    "        multi_class='multinomial',\n",
    "        solver='lbfgs',\n",
    "        max_iter=1000,\n",
    "        class_weight=class_weights\n",
    "    )\n",
    "    model.fit(X_train, y_train)\n",
    "    \n",
    "    y_pred = model.predict(X_test)\n",
    "    cats = sorted(df[ethnicity_col].unique())\n",
    "    \n",
    "    calculate_stats(y_test, y_pred, \"Name Classifier\", cats)\n",
    "    \n",
    "    return model\n"
   ]
  },
  {
   "cell_type": "code",
   "execution_count": 13,
   "metadata": {},
   "outputs": [],
   "source": [
    "with open('./models/logit_classifier.pkl', 'rb') as file:\n",
    "    model = pickle.load(file)"
   ]
  },
  {
   "cell_type": "code",
   "execution_count": 14,
   "metadata": {},
   "outputs": [
    {
     "data": {
      "text/plain": [
       "ethnic\n",
       "not    6994941\n",
       "ind    3005059\n",
       "Name: count, dtype: int64"
      ]
     },
     "execution_count": 14,
     "metadata": {},
     "output_type": "execute_result"
    }
   ],
   "source": [
    "df = pd.read_csv(names)\n",
    "df[\"ethnic\"].value_counts()"
   ]
  },
  {
   "cell_type": "code",
   "execution_count": 15,
   "metadata": {},
   "outputs": [
    {
     "name": "stdout",
     "output_type": "stream",
     "text": [
      "shape: (10, 16)\n",
      "┌─────────────┬─────────────┬───────────┬────────────┬───┬──────┬────────┬────────────┬────────────┐\n",
      "│ contrib_id  ┆ name        ┆ recip_id  ┆ orgname    ┆ … ┆ type ┆ gender ┆ occupation ┆ employer   │\n",
      "│ ---         ┆ ---         ┆ ---       ┆ ---        ┆   ┆ ---  ┆ ---    ┆ ---        ┆ ---        │\n",
      "│ str         ┆ str         ┆ str       ┆ str        ┆   ┆ str  ┆ str    ┆ str        ┆ str        │\n",
      "╞═════════════╪═════════════╪═══════════╪════════════╪═══╪══════╪════════╪════════════╪════════════╡\n",
      "│ p0004869853 ┆ LONNBERG,   ┆ C00721712 ┆ [24T Contr ┆ … ┆ 24T  ┆ M      ┆ PARTNER    ┆ BOSTON     │\n",
      "│             ┆ CARL        ┆           ┆ ibution]   ┆   ┆      ┆        ┆            ┆ CONSULTING │\n",
      "│             ┆             ┆           ┆            ┆   ┆      ┆        ┆            ┆ GROUP      │\n",
      "│ k0001516259 ┆ LOVO, MARIO ┆ N00044240 ┆ [24T Contr ┆ … ┆ 24T  ┆ M      ┆ LAWYER     ┆ SELF       │\n",
      "│             ┆             ┆           ┆ ibution]   ┆   ┆      ┆        ┆            ┆            │\n",
      "│ h3003526289 ┆ LOGUE,      ┆ C00401224 ┆            ┆ … ┆ 15   ┆ F      ┆ NOT        ┆ NONE       │\n",
      "│             ┆ KATHERINE   ┆           ┆            ┆   ┆      ┆        ┆ EMPLOYED   ┆            │\n",
      "│ m0001653607 ┆ YINGLING,   ┆ N00044240 ┆ Steamboat  ┆ … ┆ 15E  ┆ M      ┆ RESTAURANT ┆ STEAMBOAT  │\n",
      "│ 1           ┆ JOHN        ┆           ┆ Wharf of   ┆   ┆      ┆        ┆ MANAGER    ┆ WHARF OF   │\n",
      "│             ┆             ┆           ┆ Provinceto ┆   ┆      ┆        ┆            ┆ PROVINCETO │\n",
      "│             ┆             ┆           ┆ w…         ┆   ┆      ┆        ┆            ┆ W…         │\n",
      "│ i3003912456 ┆ YODAIKEN,   ┆ N00044240 ┆ Finite     ┆ … ┆ 15E  ┆ M      ┆ BUSINESSMA ┆ FINITE     │\n",
      "│             ┆ VICTOR      ┆           ┆ State      ┆   ┆      ┆        ┆ N          ┆ STATE      │\n",
      "│             ┆             ┆           ┆ Machine    ┆   ┆      ┆        ┆            ┆ MACHINE    │\n",
      "│             ┆             ┆           ┆ Labs       ┆   ┆      ┆        ┆            ┆ LABS INC.  │\n",
      "│ q0001264432 ┆ YODER, MARY ┆ N00044240 ┆ Retired    ┆ … ┆ 15E  ┆ F      ┆ NOT        ┆ N/A        │\n",
      "│             ┆ E           ┆           ┆            ┆   ┆      ┆        ┆ EMPLOYED   ┆            │\n",
      "│ q0001264432 ┆ YODER, MARY ┆ N00044240 ┆ Retired    ┆ … ┆ 15E  ┆ F      ┆ NOT        ┆ N/A        │\n",
      "│             ┆ E           ┆           ┆            ┆   ┆      ┆        ┆ EMPLOYED   ┆            │\n",
      "│ q0001264432 ┆ YODER, MARY ┆ N00044240 ┆ Retired    ┆ … ┆ 15E  ┆ F      ┆ NOT        ┆ N/A        │\n",
      "│             ┆ E           ┆           ┆            ┆   ┆      ┆        ┆ EMPLOYED   ┆            │\n",
      "│ q0001264432 ┆ YODER, MARY ┆ N00044240 ┆ Retired    ┆ … ┆ 15E  ┆ F      ┆ NOT        ┆ N/A        │\n",
      "│             ┆ E           ┆           ┆            ┆   ┆      ┆        ┆ EMPLOYED   ┆            │\n",
      "│ q0001264432 ┆ YODER, MARY ┆ N00044240 ┆ Retired    ┆ … ┆ 15E  ┆ F      ┆ NOT        ┆ N/A        │\n",
      "│             ┆ E           ┆           ┆            ┆   ┆      ┆        ┆ EMPLOYED   ┆            │\n",
      "└─────────────┴─────────────┴───────────┴────────────┴───┴──────┴────────┴────────────┴────────────┘\n"
     ]
    }
   ],
   "source": [
    "lf20 = (\n",
    "        pl.scan_csv(\n",
    "            indivs20,\n",
    "            separator=',', \n",
    "            quote_char='|', \n",
    "            encoding='utf8-lossy', \n",
    "            has_header=False,\n",
    "            new_columns=['dummy1', 'dummy2', 'contrib_id', 'name', 'recip_id', \n",
    "                        'orgname', 'ultorg', 'realcode', 'dummy3', 'amount', \n",
    "                        'street', 'city', 'state', 'zip', 'recipcode', 'type', 'dummy4', 'dummy5', 'gender', 'dummy6', 'occupation', 'employer', 'dummy7'],\n",
    "            schema_overrides={'amount': pl.Float64, 'name': pl.Utf8, 'state': pl.Utf8, 'city': pl.Utf8},\n",
    "            ignore_errors=True\n",
    "        )\n",
    "        .select(['contrib_id', 'name', 'recip_id', 'orgname', 'ultorg', 'realcode', \n",
    "                 'amount', 'street', 'city', 'state', 'zip', 'recipcode', 'type', \n",
    "                 'gender', 'occupation', 'employer'])\n",
    "        .filter(~pl.col('amount').is_null())\n",
    "    )\n",
    "df20 = lf20.collect()\n",
    "print(df20.head(10))"
   ]
  },
  {
   "cell_type": "code",
   "execution_count": null,
   "metadata": {},
   "outputs": [
    {
     "name": "stdout",
     "output_type": "stream",
     "text": [
      "shape: (10, 16)\n",
      "┌─────────────┬─────────────┬───────────┬────────────┬───┬──────┬────────┬────────────┬────────────┐\n",
      "│ contrib_id  ┆ name        ┆ recip_id  ┆ orgname    ┆ … ┆ type ┆ gender ┆ occupation ┆ employer   │\n",
      "│ ---         ┆ ---         ┆ ---       ┆ ---        ┆   ┆ ---  ┆ ---    ┆ ---        ┆ ---        │\n",
      "│ str         ┆ str         ┆ str       ┆ str        ┆   ┆ str  ┆ str    ┆ str        ┆ str        │\n",
      "╞═════════════╪═════════════╪═══════════╪════════════╪═══╪══════╪════════╪════════════╪════════════╡\n",
      "│ r0014256510 ┆ DILLARD,    ┆ C00000935 ┆ [24T Contr ┆ … ┆ 24T  ┆ M      ┆ NOT        ┆ NOT        │\n",
      "│             ┆ DANIEL      ┆           ┆ ibution]   ┆   ┆      ┆        ┆ EMPLOYED   ┆ EMPLOYED   │\n",
      "│ r0015503614 ┆ WHITE,      ┆ C00633404 ┆ [24T Contr ┆ … ┆ 24T  ┆ M      ┆ NOT        ┆ NOT        │\n",
      "│             ┆ SCOTTO      ┆           ┆ ibution]   ┆   ┆      ┆        ┆ EMPLOYED   ┆ EMPLOYED   │\n",
      "│ p0003861308 ┆ DOMINGUEZ,  ┆ C00632398 ┆ [24T Contr ┆ … ┆ 24T  ┆ F      ┆ HEALTHCARE ┆ MCDONALD   │\n",
      "│             ┆ SALLIE      ┆           ┆ ibution]   ┆   ┆      ┆        ┆            ┆ FAMILY     │\n",
      "│             ┆             ┆           ┆            ┆   ┆      ┆        ┆            ┆ DENTAL     │\n",
      "│ p0003689535 ┆ BRADLEY,    ┆ C00678839 ┆ [24T Contr ┆ … ┆ 24T  ┆ F      ┆ LIBRARIAN  ┆ MEDICAL    │\n",
      "│             ┆ JANNETTE    ┆           ┆ ibution]   ┆   ┆      ┆        ┆            ┆ CENTER     │\n",
      "│ q0002181378 ┆ BHATT,      ┆ C00580068 ┆ [24T Contr ┆ … ┆ 24T  ┆ F      ┆ MKTG       ┆ FRYE       │\n",
      "│             ┆ TANYA       ┆           ┆ ibution]   ┆   ┆      ┆        ┆            ┆ FINANCIAL  │\n",
      "│ r0015503614 ┆ WHITE,      ┆ C00633404 ┆ [24T Contr ┆ … ┆ 24T  ┆ M      ┆ NOT        ┆ NOT        │\n",
      "│             ┆ SCOTTO      ┆           ┆ ibution]   ┆   ┆      ┆        ┆ EMPLOYED   ┆ EMPLOYED   │\n",
      "│ h3003472552 ┆ ALDERMAN,   ┆ C00031054 ┆ [24T Contr ┆ … ┆ 24T  ┆ F      ┆ NOT        ┆ NOT        │\n",
      "│             ┆ SUSAN       ┆           ┆ ibution]   ┆   ┆      ┆        ┆ EMPLOYED   ┆ EMPLOYED   │\n",
      "│ p0004825653 ┆ HOTVET,     ┆ C00580068 ┆ [24T Contr ┆ … ┆ 24T  ┆ M      ┆ LAWYERSTAT ┆ MY STATE   │\n",
      "│             ┆ MARTIN      ┆           ┆ ibution]   ┆   ┆      ┆        ┆ E OF NY    ┆            │\n",
      "│ b0060331113 ┆ EISENBERG,  ┆ C00000935 ┆ [24T Contr ┆ … ┆ 24T  ┆ M      ┆ ATTORNEY   ┆ BLANK ROME │\n",
      "│ 1           ┆ BRUCE       ┆           ┆ ibution]   ┆   ┆      ┆        ┆            ┆ LLP        │\n",
      "│ j1002282246 ┆ FLEISCHLI,  ┆ C00748301 ┆ [24T Contr ┆ … ┆ 24T  ┆ F      ┆ STATISTICI ┆ UNIVERSITY │\n",
      "│             ┆ MARY        ┆           ┆ ibution]   ┆   ┆      ┆        ┆ AN         ┆ OF CONNECT │\n",
      "│             ┆             ┆           ┆            ┆   ┆      ┆        ┆            ┆ ICUT       │\n",
      "└─────────────┴─────────────┴───────────┴────────────┴───┴──────┴────────┴────────────┴────────────┘\n"
     ]
    }
   ],
   "source": [
    "lf22 = (\n",
    "        pl.scan_csv(\n",
    "            indivs22,\n",
    "            separator=',', \n",
    "            quote_char='|', \n",
    "            encoding='utf8-lossy', \n",
    "            has_header=False,\n",
    "            new_columns=['dummy1', 'dummy2', 'contrib_id', 'name', 'recip_id', \n",
    "                        'orgname', 'ultorg', 'realcode', 'dummy3', 'amount', \n",
    "                        'street', 'city', 'state', 'zip', 'recipcode', 'type', 'dummy4', 'dummy5', 'gender', 'dummy6', 'occupation', 'employer', 'dummy7'],\n",
    "            schema_overrides={'amount': pl.Float64, 'name': pl.Utf8, 'state': pl.Utf8, 'city': pl.Utf8},\n",
    "            ignore_errors=True\n",
    "        )\n",
    "        .select(['contrib_id', 'name', 'recip_id', 'orgname', 'ultorg', 'realcode', \n",
    "                 'amount', 'street', 'city', 'state', 'zip', 'recipcode', 'type', \n",
    "                 'gender', 'occupation', 'employer'])\n",
    "        .filter(~pl.col('amount').is_null())\n",
    "    )\n",
    "df22 = lf22.collect()\n",
    "print(df22.head(10))"
   ]
  },
  {
   "cell_type": "code",
   "execution_count": 16,
   "metadata": {},
   "outputs": [
    {
     "name": "stdout",
     "output_type": "stream",
     "text": [
      "shape: (10, 19)\n",
      "┌───────────┬───────────┬───────────┬───────────┬───┬───────────┬───────────┬──────────┬───────────┐\n",
      "│ contrib_i ┆ name      ┆ recip_id  ┆ orgname   ┆ … ┆ employer  ┆ firstname ┆ lastname ┆ name_new  │\n",
      "│ d         ┆ ---       ┆ ---       ┆ ---       ┆   ┆ ---       ┆ ---       ┆ ---      ┆ ---       │\n",
      "│ ---       ┆ str       ┆ str       ┆ str       ┆   ┆ str       ┆ str       ┆ str      ┆ str       │\n",
      "│ str       ┆           ┆           ┆           ┆   ┆           ┆           ┆          ┆           │\n",
      "╞═══════════╪═══════════╪═══════════╪═══════════╪═══╪═══════════╪═══════════╪══════════╪═══════════╡\n",
      "│ p00048698 ┆ LONNBERG, ┆ C00721712 ┆ [24T Cont ┆ … ┆ BOSTON    ┆ carl      ┆ lonnberg ┆ carl      │\n",
      "│ 53        ┆ CARL      ┆           ┆ ribution] ┆   ┆ CONSULTIN ┆           ┆          ┆ lonnberg  │\n",
      "│           ┆           ┆           ┆           ┆   ┆ G GROUP   ┆           ┆          ┆           │\n",
      "│ k00015162 ┆ LOVO,     ┆ N00044240 ┆ [24T Cont ┆ … ┆ SELF      ┆ mario     ┆ lovo     ┆ mario     │\n",
      "│ 59        ┆ MARIO     ┆           ┆ ribution] ┆   ┆           ┆           ┆          ┆ lovo      │\n",
      "│ h30035262 ┆ LOGUE,    ┆ C00401224 ┆           ┆ … ┆ NONE      ┆ katherine ┆ logue    ┆ katherine │\n",
      "│ 89        ┆ KATHERINE ┆           ┆           ┆   ┆           ┆           ┆          ┆ logue     │\n",
      "│ m00016536 ┆ YINGLING, ┆ N00044240 ┆ Steamboat ┆ … ┆ STEAMBOAT ┆ john      ┆ yingling ┆ john      │\n",
      "│ 071       ┆ JOHN      ┆           ┆ Wharf of  ┆   ┆ WHARF OF  ┆           ┆          ┆ yingling  │\n",
      "│           ┆           ┆           ┆ Provincet ┆   ┆ PROVINCET ┆           ┆          ┆           │\n",
      "│           ┆           ┆           ┆ ow…       ┆   ┆ OW…       ┆           ┆          ┆           │\n",
      "│ i30039124 ┆ YODAIKEN, ┆ N00044240 ┆ Finite    ┆ … ┆ FINITE    ┆ victor    ┆ yodaiken ┆ victor    │\n",
      "│ 56        ┆ VICTOR    ┆           ┆ State     ┆   ┆ STATE     ┆           ┆          ┆ yodaiken  │\n",
      "│           ┆           ┆           ┆ Machine   ┆   ┆ MACHINE   ┆           ┆          ┆           │\n",
      "│           ┆           ┆           ┆ Labs      ┆   ┆ LABS INC. ┆           ┆          ┆           │\n",
      "│ q00012644 ┆ YODER,    ┆ N00044240 ┆ Retired   ┆ … ┆ N/A       ┆ mary e    ┆ yoder    ┆ mary e    │\n",
      "│ 32        ┆ MARY E    ┆           ┆           ┆   ┆           ┆           ┆          ┆ yoder     │\n",
      "│ q00012644 ┆ YODER,    ┆ N00044240 ┆ Retired   ┆ … ┆ N/A       ┆ mary e    ┆ yoder    ┆ mary e    │\n",
      "│ 32        ┆ MARY E    ┆           ┆           ┆   ┆           ┆           ┆          ┆ yoder     │\n",
      "│ q00012644 ┆ YODER,    ┆ N00044240 ┆ Retired   ┆ … ┆ N/A       ┆ mary e    ┆ yoder    ┆ mary e    │\n",
      "│ 32        ┆ MARY E    ┆           ┆           ┆   ┆           ┆           ┆          ┆ yoder     │\n",
      "│ q00012644 ┆ YODER,    ┆ N00044240 ┆ Retired   ┆ … ┆ N/A       ┆ mary e    ┆ yoder    ┆ mary e    │\n",
      "│ 32        ┆ MARY E    ┆           ┆           ┆   ┆           ┆           ┆          ┆ yoder     │\n",
      "│ q00012644 ┆ YODER,    ┆ N00044240 ┆ Retired   ┆ … ┆ N/A       ┆ mary e    ┆ yoder    ┆ mary e    │\n",
      "│ 32        ┆ MARY E    ┆           ┆           ┆   ┆           ┆           ┆          ┆ yoder     │\n",
      "└───────────┴───────────┴───────────┴───────────┴───┴───────────┴───────────┴──────────┴───────────┘\n"
     ]
    }
   ],
   "source": [
    "df20 = df20.with_columns([\n",
    "    pl.col(\"name\").str.split(\",\").list.get(-1).str.to_lowercase().str.strip_chars().alias(\"firstname\"),\n",
    "    pl.col(\"name\").str.split(\",\").list.first().str.to_lowercase().str.strip_chars().alias(\"lastname\"),\n",
    "])\n",
    "\n",
    "df20 = df20.with_columns([\n",
    "    (\n",
    "        pl.col(\"firstname\").str.to_lowercase().str.strip_chars() + \" \" + \n",
    "        pl.col(\"lastname\").str.to_lowercase().str.strip_chars()\n",
    "    ).alias(\"name_new\")\n",
    "])\n",
    "\n",
    "print(df20.head(10))"
   ]
  },
  {
   "cell_type": "code",
   "execution_count": null,
   "metadata": {},
   "outputs": [
    {
     "name": "stdout",
     "output_type": "stream",
     "text": [
      "shape: (10, 19)\n",
      "┌───────────┬───────────┬───────────┬───────────┬───┬───────────┬───────────┬───────────┬──────────┐\n",
      "│ contrib_i ┆ name      ┆ recip_id  ┆ orgname   ┆ … ┆ employer  ┆ firstname ┆ lastname  ┆ name_new │\n",
      "│ d         ┆ ---       ┆ ---       ┆ ---       ┆   ┆ ---       ┆ ---       ┆ ---       ┆ ---      │\n",
      "│ ---       ┆ str       ┆ str       ┆ str       ┆   ┆ str       ┆ str       ┆ str       ┆ str      │\n",
      "│ str       ┆           ┆           ┆           ┆   ┆           ┆           ┆           ┆          │\n",
      "╞═══════════╪═══════════╪═══════════╪═══════════╪═══╪═══════════╪═══════════╪═══════════╪══════════╡\n",
      "│ r00142565 ┆ DILLARD,  ┆ C00000935 ┆ [24T Cont ┆ … ┆ NOT       ┆ daniel    ┆ dillard   ┆ daniel   │\n",
      "│ 10        ┆ DANIEL    ┆           ┆ ribution] ┆   ┆ EMPLOYED  ┆           ┆           ┆ dillard  │\n",
      "│ r00155036 ┆ WHITE,    ┆ C00633404 ┆ [24T Cont ┆ … ┆ NOT       ┆ scotto    ┆ white     ┆ scotto   │\n",
      "│ 14        ┆ SCOTTO    ┆           ┆ ribution] ┆   ┆ EMPLOYED  ┆           ┆           ┆ white    │\n",
      "│ p00038613 ┆ DOMINGUEZ ┆ C00632398 ┆ [24T Cont ┆ … ┆ MCDONALD  ┆ sallie    ┆ dominguez ┆ sallie   │\n",
      "│ 08        ┆ , SALLIE  ┆           ┆ ribution] ┆   ┆ FAMILY    ┆           ┆           ┆ domingue │\n",
      "│           ┆           ┆           ┆           ┆   ┆ DENTAL    ┆           ┆           ┆ z        │\n",
      "│ p00036895 ┆ BRADLEY,  ┆ C00678839 ┆ [24T Cont ┆ … ┆ MEDICAL   ┆ jannette  ┆ bradley   ┆ jannette │\n",
      "│ 35        ┆ JANNETTE  ┆           ┆ ribution] ┆   ┆ CENTER    ┆           ┆           ┆ bradley  │\n",
      "│ q00021813 ┆ BHATT,    ┆ C00580068 ┆ [24T Cont ┆ … ┆ FRYE      ┆ tanya     ┆ bhatt     ┆ tanya    │\n",
      "│ 78        ┆ TANYA     ┆           ┆ ribution] ┆   ┆ FINANCIAL ┆           ┆           ┆ bhatt    │\n",
      "│ r00155036 ┆ WHITE,    ┆ C00633404 ┆ [24T Cont ┆ … ┆ NOT       ┆ scotto    ┆ white     ┆ scotto   │\n",
      "│ 14        ┆ SCOTTO    ┆           ┆ ribution] ┆   ┆ EMPLOYED  ┆           ┆           ┆ white    │\n",
      "│ h30034725 ┆ ALDERMAN, ┆ C00031054 ┆ [24T Cont ┆ … ┆ NOT       ┆ susan     ┆ alderman  ┆ susan    │\n",
      "│ 52        ┆ SUSAN     ┆           ┆ ribution] ┆   ┆ EMPLOYED  ┆           ┆           ┆ alderman │\n",
      "│ p00048256 ┆ HOTVET,   ┆ C00580068 ┆ [24T Cont ┆ … ┆ MY STATE  ┆ martin    ┆ hotvet    ┆ martin   │\n",
      "│ 53        ┆ MARTIN    ┆           ┆ ribution] ┆   ┆           ┆           ┆           ┆ hotvet   │\n",
      "│ b00603311 ┆ EISENBERG ┆ C00000935 ┆ [24T Cont ┆ … ┆ BLANK     ┆ bruce     ┆ eisenberg ┆ bruce    │\n",
      "│ 131       ┆ , BRUCE   ┆           ┆ ribution] ┆   ┆ ROME LLP  ┆           ┆           ┆ eisenber │\n",
      "│           ┆           ┆           ┆           ┆   ┆           ┆           ┆           ┆ g        │\n",
      "│ j10022822 ┆ FLEISCHLI ┆ C00748301 ┆ [24T Cont ┆ … ┆ UNIVERSIT ┆ mary      ┆ fleischli ┆ mary fle │\n",
      "│ 46        ┆ , MARY    ┆           ┆ ribution] ┆   ┆ Y OF CONN ┆           ┆           ┆ ischli   │\n",
      "│           ┆           ┆           ┆           ┆   ┆ ECTICUT   ┆           ┆           ┆          │\n",
      "└───────────┴───────────┴───────────┴───────────┴───┴───────────┴───────────┴───────────┴──────────┘\n"
     ]
    }
   ],
   "source": [
    "df22 = df22.with_columns([\n",
    "    pl.col(\"name\").str.split(\",\").list.get(-1).str.to_lowercase().str.strip_chars().alias(\"firstname\"),\n",
    "    pl.col(\"name\").str.split(\",\").list.first().str.to_lowercase().str.strip_chars().alias(\"lastname\"),\n",
    "])\n",
    "\n",
    "df22 = df22.with_columns([\n",
    "    (\n",
    "        pl.col(\"firstname\").str.to_lowercase().str.strip_chars() + \" \" + \n",
    "        pl.col(\"lastname\").str.to_lowercase().str.strip_chars()\n",
    "    ).alias(\"name_new\")\n",
    "])\n",
    "\n",
    "print(df22.head(10))"
   ]
  },
  {
   "cell_type": "code",
   "execution_count": 17,
   "metadata": {},
   "outputs": [
    {
     "name": "stdout",
     "output_type": "stream",
     "text": [
      "shape: (10, 7)\n",
      "┌──────────────┬─────────────┬─────────────┬─────────────┬─────────────┬─────────────┬─────────────┐\n",
      "│ contrib_id   ┆ name        ┆ name_new    ┆ lastname    ┆ total_donat ┆ donation_co ┆ avg_donatio │\n",
      "│ ---          ┆ ---         ┆ ---         ┆ ---         ┆ ed          ┆ unt         ┆ n           │\n",
      "│ str          ┆ str         ┆ str         ┆ str         ┆ ---         ┆ ---         ┆ ---         │\n",
      "│              ┆             ┆             ┆             ┆ f64         ┆ u32         ┆ f64         │\n",
      "╞══════════════╪═════════════╪═════════════╪═════════════╪═════════════╪═════════════╪═════════════╡\n",
      "│              ┆ FOR         ┆ amy for     ┆ for america ┆ 1.2556e9    ┆ 27780       ┆ 45197.81353 │\n",
      "│              ┆ AMERICA,    ┆ america     ┆             ┆             ┆             ┆ 5           │\n",
      "│              ┆ AMY         ┆             ┆             ┆             ┆             ┆             │\n",
      "│ U00000037041 ┆ BLOOMBERG,  ┆ michael     ┆ bloomberg   ┆ 1.1277e9    ┆ 960         ┆ 1.1747e6    │\n",
      "│              ┆ MICHAEL     ┆ bloomberg   ┆             ┆             ┆             ┆             │\n",
      "│ U00000036521 ┆ STEYER,     ┆ thomas f    ┆ steyer      ┆ 3.79061294e ┆ 779         ┆ 486599.8639 │\n",
      "│              ┆ THOMAS F    ┆ steyer      ┆             ┆ 8           ┆             ┆ 28          │\n",
      "│ U00000046841 ┆ MELLON,     ┆ timothy     ┆ mellon      ┆ 4.5133555e7 ┆ 23          ┆ 1.9623e6    │\n",
      "│              ┆ TIMOTHY     ┆ mellon      ┆             ┆             ┆             ┆             │\n",
      "│ U0000000310A ┆ ADELSON,    ┆ miriam o dr ┆ adelson     ┆ 4.497155e7  ┆ 134         ┆ 335608.5820 │\n",
      "│              ┆ MIRIAM O DR ┆ adelson     ┆             ┆             ┆             ┆ 9           │\n",
      "│ U00000003101 ┆ ADELSON,    ┆ sheldon g   ┆ adelson     ┆ 4.481995e7  ┆ 129         ┆ 347441.4728 │\n",
      "│              ┆ SHELDON G   ┆ mr adelson  ┆             ┆             ┆             ┆ 68          │\n",
      "│              ┆ MR          ┆             ┆             ┆             ┆             ┆             │\n",
      "│ U00000036901 ┆ UIHLEIN,    ┆ richard e   ┆ uihlein     ┆ 3.5302382e7 ┆ 342         ┆ 103223.3391 │\n",
      "│              ┆ RICHARD E   ┆ uihlein     ┆             ┆             ┆             ┆ 81          │\n",
      "│ U00000036551 ┆ GRIFFIN,    ┆ kenneth     ┆ griffin     ┆ 3.3639933e7 ┆ 197         ┆ 170761.0812 │\n",
      "│              ┆ KENNETH     ┆ griffin     ┆             ┆             ┆             ┆ 18          │\n",
      "│ U00000003611 ┆ SCHWARZMAN, ┆ stephen a   ┆ schwarzman  ┆ 3.34065e7   ┆ 242         ┆ 138043.3884 │\n",
      "│              ┆ STEPHEN A   ┆ schwarzman  ┆             ┆             ┆             ┆ 3           │\n",
      "│ U00000046781 ┆ JURVETSON,  ┆ karla       ┆ jurvetson   ┆ 3.2493513e7 ┆ 973         ┆ 33395.18293 │\n",
      "│              ┆ KARLA       ┆ jurvetson   ┆             ┆             ┆             ┆ 9           │\n",
      "└──────────────┴─────────────┴─────────────┴─────────────┴─────────────┴─────────────┴─────────────┘\n"
     ]
    }
   ],
   "source": [
    "donors20 = (\n",
    "    df20.group_by(\"contrib_id\")\n",
    "    .agg(\n",
    "        pl.col(\"name\").first().alias(\"name\"),\n",
    "        pl.col(\"name_new\").first().alias(\"name_new\"),\n",
    "        pl.col(\"lastname\").first().alias(\"lastname\"),\n",
    "        pl.col(\"amount\").sum().alias(\"total_donated\"),\n",
    "        pl.col(\"amount\").count().alias(\"donation_count\"),\n",
    "        pl.col(\"amount\").mean().alias(\"avg_donation\")\n",
    "    )\n",
    "    .sort(\"total_donated\", descending=True)\n",
    ")\n",
    "print(donors20.head(10))"
   ]
  },
  {
   "cell_type": "code",
   "execution_count": 18,
   "metadata": {},
   "outputs": [
    {
     "name": "stderr",
     "output_type": "stream",
     "text": [
      "100%|██████████| 3847755/3847755 [01:09<00:00, 55187.21it/s]\n"
     ]
    }
   ],
   "source": [
    "X_train, X_test, weights = prepare_train_test_data(df, donors20[[\"name_new\"]])"
   ]
  },
  {
   "cell_type": "code",
   "execution_count": 19,
   "metadata": {},
   "outputs": [
    {
     "data": {
      "text/plain": [
       "(0.957804796987511, 0.13321386679631453)"
      ]
     },
     "execution_count": 19,
     "metadata": {},
     "output_type": "execute_result"
    }
   ],
   "source": [
    "y_probs = model.predict_proba(X_test)[:, 1]\n",
    "y_probs.mean(), y_probs.std()"
   ]
  },
  {
   "cell_type": "code",
   "execution_count": 22,
   "metadata": {},
   "outputs": [
    {
     "data": {
      "text/plain": [
       "array([0, 0, 0, ..., 0, 0, 0])"
      ]
     },
     "execution_count": 22,
     "metadata": {},
     "output_type": "execute_result"
    }
   ],
   "source": [
    "y_pred_adjusted = (y_probs <= 0.80).astype(int)\n",
    "y_pred_adjusted"
   ]
  },
  {
   "cell_type": "code",
   "execution_count": 23,
   "metadata": {},
   "outputs": [
    {
     "data": {
      "text/html": [
       "<div><style>\n",
       ".dataframe > thead > tr,\n",
       ".dataframe > tbody > tr {\n",
       "  text-align: right;\n",
       "  white-space: pre-wrap;\n",
       "}\n",
       "</style>\n",
       "<small>shape: (2, 2)</small><table border=\"1\" class=\"dataframe\"><thead><tr><th>ethnic</th><th>count</th></tr><tr><td>i32</td><td>u32</td></tr></thead><tbody><tr><td>1</td><td>327213</td></tr><tr><td>0</td><td>3520542</td></tr></tbody></table></div>"
      ],
      "text/plain": [
       "shape: (2, 2)\n",
       "┌────────┬─────────┐\n",
       "│ ethnic ┆ count   │\n",
       "│ ---    ┆ ---     │\n",
       "│ i32    ┆ u32     │\n",
       "╞════════╪═════════╡\n",
       "│ 1      ┆ 327213  │\n",
       "│ 0      ┆ 3520542 │\n",
       "└────────┴─────────┘"
      ]
     },
     "execution_count": 23,
     "metadata": {},
     "output_type": "execute_result"
    }
   ],
   "source": [
    "donors20 = donors20.with_columns(pl.Series(name=\"ethnic\", values=y_pred_adjusted))\n",
    "donors20 = donors20.with_columns(pl.Series(name=\"probs\", values=y_probs))\n",
    "donors20.write_csv(\"./data/donors20_with_pred80.csv\")\n",
    "donors20[\"ethnic\"].value_counts()"
   ]
  },
  {
   "cell_type": "code",
   "execution_count": 43,
   "metadata": {},
   "outputs": [
    {
     "name": "stdout",
     "output_type": "stream",
     "text": [
      "shape: (10, 9)\n",
      "┌────────────┬────────────┬────────────┬──────────┬───┬────────────┬───────────┬────────┬──────────┐\n",
      "│ contrib_id ┆ name       ┆ name_new   ┆ lastname ┆ … ┆ donation_c ┆ avg_donat ┆ ethnic ┆ probs    │\n",
      "│ ---        ┆ ---        ┆ ---        ┆ ---      ┆   ┆ ount       ┆ ion       ┆ ---    ┆ ---      │\n",
      "│ str        ┆ str        ┆ str        ┆ str      ┆   ┆ ---        ┆ ---       ┆ i32    ┆ f64      │\n",
      "│            ┆            ┆            ┆          ┆   ┆ u32        ┆ f64       ┆        ┆          │\n",
      "╞════════════╪════════════╪════════════╪══════════╪═══╪════════════╪═══════════╪════════╪══════════╡\n",
      "│ U000000330 ┆ KHOSLA,    ┆ vinod      ┆ khosla   ┆ … ┆ 56         ┆ 43049.910 ┆ 0      ┆ 0.996533 │\n",
      "│ 11         ┆ VINOD      ┆ khosla     ┆          ┆   ┆            ┆ 714       ┆        ┆          │\n",
      "│ k000155328 ┆ KHOSLA,    ┆ gail       ┆ khosla   ┆ … ┆ 4          ┆ 26400.0   ┆ 0      ┆ 0.99645  │\n",
      "│ 9@         ┆ GAIL       ┆ khosla     ┆          ┆   ┆            ┆           ┆        ┆          │\n",
      "│ r001863973 ┆ KHOSLA,    ┆ vinod      ┆ khosla   ┆ … ┆ 1          ┆ 100000.0  ┆ 0      ┆ 0.998479 │\n",
      "│ 4          ┆ VINOD      ┆ khosla     ┆          ┆   ┆            ┆           ┆        ┆          │\n",
      "│ m000186257 ┆ KHOSLA,    ┆ dinesh     ┆ khosla   ┆ … ┆ 5          ┆ 4200.0    ┆ 0      ┆ 0.99998  │\n",
      "│ 3          ┆ DINESH     ┆ khosla     ┆          ┆   ┆            ┆           ┆        ┆          │\n",
      "│ n000114969 ┆ KHOSLA,    ┆ anu khosla ┆ khosla   ┆ … ┆ 36         ┆ 445.44444 ┆ 0      ┆ 0.991841 │\n",
      "│ 0          ┆ ANU        ┆            ┆          ┆   ┆            ┆ 4         ┆        ┆          │\n",
      "│ r000708201 ┆ KHOSLA,    ┆ anmol      ┆ khosla   ┆ … ┆ 10         ┆ 719.4     ┆ 0      ┆ 0.996612 │\n",
      "│ 1          ┆ ANMOL      ┆ khosla     ┆          ┆   ┆            ┆           ┆        ┆          │\n",
      "│ r000491701 ┆ KHOSLA,    ┆ siddhartha ┆ khosla   ┆ … ┆ 6          ┆ 958.33333 ┆ 0      ┆ 0.996292 │\n",
      "│ 1          ┆ SIDDHARTHA ┆ khosla     ┆          ┆   ┆            ┆ 3         ┆        ┆          │\n",
      "│ n000115471 ┆ KHOSLA,    ┆ neal       ┆ khosla   ┆ … ┆ 2          ┆ 2800.0    ┆ 0      ┆ 0.996467 │\n",
      "│ 8          ┆ NEAL       ┆ khosla     ┆          ┆   ┆            ┆           ┆        ┆          │\n",
      "│ r000008052 ┆ KHOSLA,    ┆ rachna ms  ┆ khosla   ┆ … ┆ 8          ┆ 437.0     ┆ 0      ┆ 0.999093 │\n",
      "│ 0          ┆ RACHNA MS  ┆ khosla     ┆          ┆   ┆            ┆           ┆        ┆          │\n",
      "│ U000000330 ┆ KHOSLA,    ┆ neeru      ┆ khosla   ┆ … ┆ 1          ┆ 2800.0    ┆ 0      ┆ 0.996483 │\n",
      "│ 1A         ┆ NEERU      ┆ khosla     ┆          ┆   ┆            ┆           ┆        ┆          │\n",
      "└────────────┴────────────┴────────────┴──────────┴───┴────────────┴───────────┴────────┴──────────┘\n"
     ]
    }
   ],
   "source": [
    "print(donors20.filter(pl.col(\"lastname\") == \"khosla\").head(10))"
   ]
  },
  {
   "cell_type": "code",
   "execution_count": null,
   "metadata": {},
   "outputs": [],
   "source": []
  }
 ],
 "metadata": {
  "kernelspec": {
   "display_name": "Python 3",
   "language": "python",
   "name": "python3"
  },
  "language_info": {
   "codemirror_mode": {
    "name": "ipython",
    "version": 3
   },
   "file_extension": ".py",
   "mimetype": "text/x-python",
   "name": "python",
   "nbconvert_exporter": "python",
   "pygments_lexer": "ipython3",
   "version": "3.12.7"
  }
 },
 "nbformat": 4,
 "nbformat_minor": 2
}
